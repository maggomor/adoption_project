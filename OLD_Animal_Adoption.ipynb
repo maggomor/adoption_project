{
  "nbformat": 4,
  "nbformat_minor": 0,
  "metadata": {
    "colab": {
      "provenance": [],
      "authorship_tag": "ABX9TyO1VZCZvBUns2FaJCNRDnrU",
      "include_colab_link": true
    },
    "kernelspec": {
      "name": "python3",
      "display_name": "Python 3"
    },
    "language_info": {
      "name": "python"
    }
  },
  "cells": [
    {
      "cell_type": "markdown",
      "metadata": {
        "id": "view-in-github",
        "colab_type": "text"
      },
      "source": [
        "<a href=\"https://colab.research.google.com/github/maggomor/adoption_project/blob/main/Animal_Adoption.ipynb\" target=\"_parent\"><img src=\"https://colab.research.google.com/assets/colab-badge.svg\" alt=\"Open In Colab\"/></a>"
      ]
    },
    {
      "cell_type": "markdown",
      "source": [
        "# Assessing the likelihood of cats & dogs getting adopted"
      ],
      "metadata": {
        "id": "5KzaQ9lyfUVF"
      }
    },
    {
      "cell_type": "markdown",
      "source": [
        "Whoever knows me, knows that I am an absolute animal lover, especially cats and dogs. Therefore, today I started looking into what kinds of factors may impact whether an animal in a shelter would get adopted.\n",
        "\n",
        "I use the dataset kindly provided here: https://data.world/rdowns26/austin-animal-shelter \n",
        "It mainly utilises data from Austin Animal Shelters that is available online. I have provided it on my GitHub-Repository as well. Let's first import some basic packages as well as the data as used by the authors in the above project (and in their raw form)."
      ],
      "metadata": {
        "id": "5O3nnh1RfdO8"
      }
    },
    {
      "cell_type": "code",
      "execution_count": 91,
      "metadata": {
        "colab": {
          "base_uri": "https://localhost:8080/"
        },
        "id": "qI2artB6fP8m",
        "outputId": "55cfa0ff-4577-4465-de9a-4dad63bef4a1"
      },
      "outputs": [
        {
          "output_type": "execute_result",
          "data": {
            "text/plain": [
              "((76977, 38), (63643, 12), (63328, 12))"
            ]
          },
          "metadata": {},
          "execution_count": 91
        }
      ],
      "source": [
        "import numpy as np\n",
        "import pandas as pd\n",
        "import matplotlib.pyplot as plt\n",
        "import seaborn as sns\n",
        "from sklearn.preprocessing import OneHotEncoder, StandardScaler\n",
        "from sklearn.model_selection import train_test_split\n",
        "from sklearn.metrics import confusion_matrix, accuracy_score\n",
        "from sklearn.linear_model import LogisticRegression\n",
        "from sklearn.ensemble import RandomForestClassifier\n",
        "from sklearn.neighbors import KNeighborsClassifier\n",
        "df = pd.read_csv(\"https://raw.githubusercontent.com/maggomor/adoption_project/main/all_records.csv\")\n",
        "\n",
        "outcome_df = pd.read_csv(\"https://raw.githubusercontent.com/maggomor/adoption_project/main/Austin_Animal_Center_Outcomes.csv\")\n",
        "\n",
        "intake_df = pd.read_csv(\"https://raw.githubusercontent.com/maggomor/adoption_project/main/Austin_Animal_Center_Intakes.csv\")\n",
        "df.shape, outcome_df.shape, intake_df.shape\n"
      ]
    },
    {
      "cell_type": "markdown",
      "source": [
        "When I first checked this, I felt that something was wrong in the data as provided by the authors. Using a dataset of intakes and outcomes both below 70k, they rose above 70k observations? That sparked my interest. Observe for example the data for a cute little kitty named \"Mustachala\":"
      ],
      "metadata": {
        "id": "a9jOUzdbhUQc"
      }
    },
    {
      "cell_type": "code",
      "source": [
        "df[df[\"Name_intake\"]==\"Mustachala\"]"
      ],
      "metadata": {
        "colab": {
          "base_uri": "https://localhost:8080/",
          "height": 355
        },
        "id": "nvkW_nkZhmJm",
        "outputId": "95b5038a-8dd9-4452-9398-20ff1f2c668b"
      },
      "execution_count": 92,
      "outputs": [
        {
          "output_type": "execute_result",
          "data": {
            "text/plain": [
              "   Unnamed: 0 Animal ID Name_intake      DateTime_intake  \\\n",
              "5           5   A683798  Mustachala  2016-07-21 12:16:00   \n",
              "6           6   A683798  Mustachala  2016-07-21 12:16:00   \n",
              "7           7   A683798  Mustachala  2014-07-15 15:38:00   \n",
              "8           8   A683798  Mustachala  2014-07-15 15:38:00   \n",
              "\n",
              "         MonthYear_intake                  Found_Location      Intake_Type  \\\n",
              "5  07/21/2016 12:16:00 PM  3118 Windsor Rd in Austin (TX)            Stray   \n",
              "6  07/21/2016 12:16:00 PM  3118 Windsor Rd in Austin (TX)            Stray   \n",
              "7  07/15/2014 03:38:00 PM                     Austin (TX)  Owner Surrender   \n",
              "8  07/15/2014 03:38:00 PM                     Austin (TX)  Owner Surrender   \n",
              "\n",
              "  IntakeCondition Animal_Type_intake            Sex  ... beagle terrier boxer  \\\n",
              "5          Normal                Cat  Spayed Female  ...      0       0     0   \n",
              "6          Normal                Cat  Spayed Female  ...      0       0     0   \n",
              "7          Normal                Cat  Intact Female  ...      0       0     0   \n",
              "8          Normal                Cat  Intact Female  ...      0       0     0   \n",
              "\n",
              "  poodle rottweiler dachshund chihuahua pit bull  \\\n",
              "5      0          0         0         0        0   \n",
              "6      0          0         0         0        0   \n",
              "7      0          0         0         0        0   \n",
              "8      0          0         0         0        0   \n",
              "\n",
              "                 DateTime_length          Days_length  \n",
              "5     88 days 22:39:00.000000000  12 weeks - 6 months  \n",
              "6  -729 days +05:50:00.000000000                  NaN  \n",
              "7    825 days 19:17:00.000000000             2+ years  \n",
              "8      8 days 02:28:00.000000000            1-3 weeks  \n",
              "\n",
              "[4 rows x 38 columns]"
            ],
            "text/html": [
              "\n",
              "  <div id=\"df-26ae857a-1b78-4a59-af6a-2ac0409def6d\">\n",
              "    <div class=\"colab-df-container\">\n",
              "      <div>\n",
              "<style scoped>\n",
              "    .dataframe tbody tr th:only-of-type {\n",
              "        vertical-align: middle;\n",
              "    }\n",
              "\n",
              "    .dataframe tbody tr th {\n",
              "        vertical-align: top;\n",
              "    }\n",
              "\n",
              "    .dataframe thead th {\n",
              "        text-align: right;\n",
              "    }\n",
              "</style>\n",
              "<table border=\"1\" class=\"dataframe\">\n",
              "  <thead>\n",
              "    <tr style=\"text-align: right;\">\n",
              "      <th></th>\n",
              "      <th>Unnamed: 0</th>\n",
              "      <th>Animal ID</th>\n",
              "      <th>Name_intake</th>\n",
              "      <th>DateTime_intake</th>\n",
              "      <th>MonthYear_intake</th>\n",
              "      <th>Found_Location</th>\n",
              "      <th>Intake_Type</th>\n",
              "      <th>IntakeCondition</th>\n",
              "      <th>Animal_Type_intake</th>\n",
              "      <th>Sex</th>\n",
              "      <th>...</th>\n",
              "      <th>beagle</th>\n",
              "      <th>terrier</th>\n",
              "      <th>boxer</th>\n",
              "      <th>poodle</th>\n",
              "      <th>rottweiler</th>\n",
              "      <th>dachshund</th>\n",
              "      <th>chihuahua</th>\n",
              "      <th>pit bull</th>\n",
              "      <th>DateTime_length</th>\n",
              "      <th>Days_length</th>\n",
              "    </tr>\n",
              "  </thead>\n",
              "  <tbody>\n",
              "    <tr>\n",
              "      <th>5</th>\n",
              "      <td>5</td>\n",
              "      <td>A683798</td>\n",
              "      <td>Mustachala</td>\n",
              "      <td>2016-07-21 12:16:00</td>\n",
              "      <td>07/21/2016 12:16:00 PM</td>\n",
              "      <td>3118 Windsor Rd in Austin (TX)</td>\n",
              "      <td>Stray</td>\n",
              "      <td>Normal</td>\n",
              "      <td>Cat</td>\n",
              "      <td>Spayed Female</td>\n",
              "      <td>...</td>\n",
              "      <td>0</td>\n",
              "      <td>0</td>\n",
              "      <td>0</td>\n",
              "      <td>0</td>\n",
              "      <td>0</td>\n",
              "      <td>0</td>\n",
              "      <td>0</td>\n",
              "      <td>0</td>\n",
              "      <td>88 days 22:39:00.000000000</td>\n",
              "      <td>12 weeks - 6 months</td>\n",
              "    </tr>\n",
              "    <tr>\n",
              "      <th>6</th>\n",
              "      <td>6</td>\n",
              "      <td>A683798</td>\n",
              "      <td>Mustachala</td>\n",
              "      <td>2016-07-21 12:16:00</td>\n",
              "      <td>07/21/2016 12:16:00 PM</td>\n",
              "      <td>3118 Windsor Rd in Austin (TX)</td>\n",
              "      <td>Stray</td>\n",
              "      <td>Normal</td>\n",
              "      <td>Cat</td>\n",
              "      <td>Spayed Female</td>\n",
              "      <td>...</td>\n",
              "      <td>0</td>\n",
              "      <td>0</td>\n",
              "      <td>0</td>\n",
              "      <td>0</td>\n",
              "      <td>0</td>\n",
              "      <td>0</td>\n",
              "      <td>0</td>\n",
              "      <td>0</td>\n",
              "      <td>-729 days +05:50:00.000000000</td>\n",
              "      <td>NaN</td>\n",
              "    </tr>\n",
              "    <tr>\n",
              "      <th>7</th>\n",
              "      <td>7</td>\n",
              "      <td>A683798</td>\n",
              "      <td>Mustachala</td>\n",
              "      <td>2014-07-15 15:38:00</td>\n",
              "      <td>07/15/2014 03:38:00 PM</td>\n",
              "      <td>Austin (TX)</td>\n",
              "      <td>Owner Surrender</td>\n",
              "      <td>Normal</td>\n",
              "      <td>Cat</td>\n",
              "      <td>Intact Female</td>\n",
              "      <td>...</td>\n",
              "      <td>0</td>\n",
              "      <td>0</td>\n",
              "      <td>0</td>\n",
              "      <td>0</td>\n",
              "      <td>0</td>\n",
              "      <td>0</td>\n",
              "      <td>0</td>\n",
              "      <td>0</td>\n",
              "      <td>825 days 19:17:00.000000000</td>\n",
              "      <td>2+ years</td>\n",
              "    </tr>\n",
              "    <tr>\n",
              "      <th>8</th>\n",
              "      <td>8</td>\n",
              "      <td>A683798</td>\n",
              "      <td>Mustachala</td>\n",
              "      <td>2014-07-15 15:38:00</td>\n",
              "      <td>07/15/2014 03:38:00 PM</td>\n",
              "      <td>Austin (TX)</td>\n",
              "      <td>Owner Surrender</td>\n",
              "      <td>Normal</td>\n",
              "      <td>Cat</td>\n",
              "      <td>Intact Female</td>\n",
              "      <td>...</td>\n",
              "      <td>0</td>\n",
              "      <td>0</td>\n",
              "      <td>0</td>\n",
              "      <td>0</td>\n",
              "      <td>0</td>\n",
              "      <td>0</td>\n",
              "      <td>0</td>\n",
              "      <td>0</td>\n",
              "      <td>8 days 02:28:00.000000000</td>\n",
              "      <td>1-3 weeks</td>\n",
              "    </tr>\n",
              "  </tbody>\n",
              "</table>\n",
              "<p>4 rows × 38 columns</p>\n",
              "</div>\n",
              "      <button class=\"colab-df-convert\" onclick=\"convertToInteractive('df-26ae857a-1b78-4a59-af6a-2ac0409def6d')\"\n",
              "              title=\"Convert this dataframe to an interactive table.\"\n",
              "              style=\"display:none;\">\n",
              "        \n",
              "  <svg xmlns=\"http://www.w3.org/2000/svg\" height=\"24px\"viewBox=\"0 0 24 24\"\n",
              "       width=\"24px\">\n",
              "    <path d=\"M0 0h24v24H0V0z\" fill=\"none\"/>\n",
              "    <path d=\"M18.56 5.44l.94 2.06.94-2.06 2.06-.94-2.06-.94-.94-2.06-.94 2.06-2.06.94zm-11 1L8.5 8.5l.94-2.06 2.06-.94-2.06-.94L8.5 2.5l-.94 2.06-2.06.94zm10 10l.94 2.06.94-2.06 2.06-.94-2.06-.94-.94-2.06-.94 2.06-2.06.94z\"/><path d=\"M17.41 7.96l-1.37-1.37c-.4-.4-.92-.59-1.43-.59-.52 0-1.04.2-1.43.59L10.3 9.45l-7.72 7.72c-.78.78-.78 2.05 0 2.83L4 21.41c.39.39.9.59 1.41.59.51 0 1.02-.2 1.41-.59l7.78-7.78 2.81-2.81c.8-.78.8-2.07 0-2.86zM5.41 20L4 18.59l7.72-7.72 1.47 1.35L5.41 20z\"/>\n",
              "  </svg>\n",
              "      </button>\n",
              "      \n",
              "  <style>\n",
              "    .colab-df-container {\n",
              "      display:flex;\n",
              "      flex-wrap:wrap;\n",
              "      gap: 12px;\n",
              "    }\n",
              "\n",
              "    .colab-df-convert {\n",
              "      background-color: #E8F0FE;\n",
              "      border: none;\n",
              "      border-radius: 50%;\n",
              "      cursor: pointer;\n",
              "      display: none;\n",
              "      fill: #1967D2;\n",
              "      height: 32px;\n",
              "      padding: 0 0 0 0;\n",
              "      width: 32px;\n",
              "    }\n",
              "\n",
              "    .colab-df-convert:hover {\n",
              "      background-color: #E2EBFA;\n",
              "      box-shadow: 0px 1px 2px rgba(60, 64, 67, 0.3), 0px 1px 3px 1px rgba(60, 64, 67, 0.15);\n",
              "      fill: #174EA6;\n",
              "    }\n",
              "\n",
              "    [theme=dark] .colab-df-convert {\n",
              "      background-color: #3B4455;\n",
              "      fill: #D2E3FC;\n",
              "    }\n",
              "\n",
              "    [theme=dark] .colab-df-convert:hover {\n",
              "      background-color: #434B5C;\n",
              "      box-shadow: 0px 1px 3px 1px rgba(0, 0, 0, 0.15);\n",
              "      filter: drop-shadow(0px 1px 2px rgba(0, 0, 0, 0.3));\n",
              "      fill: #FFFFFF;\n",
              "    }\n",
              "  </style>\n",
              "\n",
              "      <script>\n",
              "        const buttonEl =\n",
              "          document.querySelector('#df-26ae857a-1b78-4a59-af6a-2ac0409def6d button.colab-df-convert');\n",
              "        buttonEl.style.display =\n",
              "          google.colab.kernel.accessAllowed ? 'block' : 'none';\n",
              "\n",
              "        async function convertToInteractive(key) {\n",
              "          const element = document.querySelector('#df-26ae857a-1b78-4a59-af6a-2ac0409def6d');\n",
              "          const dataTable =\n",
              "            await google.colab.kernel.invokeFunction('convertToInteractive',\n",
              "                                                     [key], {});\n",
              "          if (!dataTable) return;\n",
              "\n",
              "          const docLinkHtml = 'Like what you see? Visit the ' +\n",
              "            '<a target=\"_blank\" href=https://colab.research.google.com/notebooks/data_table.ipynb>data table notebook</a>'\n",
              "            + ' to learn more about interactive tables.';\n",
              "          element.innerHTML = '';\n",
              "          dataTable['output_type'] = 'display_data';\n",
              "          await google.colab.output.renderOutput(dataTable, element);\n",
              "          const docLink = document.createElement('div');\n",
              "          docLink.innerHTML = docLinkHtml;\n",
              "          element.appendChild(docLink);\n",
              "        }\n",
              "      </script>\n",
              "    </div>\n",
              "  </div>\n",
              "  "
            ]
          },
          "metadata": {},
          "execution_count": 92
        }
      ]
    },
    {
      "cell_type": "code",
      "source": [
        "df[df[\"Name_intake\"]==\"Mustachala\"][[\"DateTime_intake\", \"Found_Location\", \"Intake_Type\", \"Sex\", \"DateTime_outcome\", \"Outcome_Type\"]]"
      ],
      "metadata": {
        "colab": {
          "base_uri": "https://localhost:8080/",
          "height": 175
        },
        "id": "F0UC3Dk-h8r9",
        "outputId": "1e64ff72-b97f-4a09-d264-c610daeed0d3"
      },
      "execution_count": 93,
      "outputs": [
        {
          "output_type": "execute_result",
          "data": {
            "text/plain": [
              "       DateTime_intake                  Found_Location      Intake_Type  \\\n",
              "5  2016-07-21 12:16:00  3118 Windsor Rd in Austin (TX)            Stray   \n",
              "6  2016-07-21 12:16:00  3118 Windsor Rd in Austin (TX)            Stray   \n",
              "7  2014-07-15 15:38:00                     Austin (TX)  Owner Surrender   \n",
              "8  2014-07-15 15:38:00                     Austin (TX)  Owner Surrender   \n",
              "\n",
              "             Sex     DateTime_outcome Outcome_Type  \n",
              "5  Spayed Female  2016-10-18 10:55:00     Adoption  \n",
              "6  Spayed Female  2014-07-23 18:06:00     Adoption  \n",
              "7  Intact Female  2016-10-18 10:55:00     Adoption  \n",
              "8  Intact Female  2014-07-23 18:06:00     Adoption  "
            ],
            "text/html": [
              "\n",
              "  <div id=\"df-bc051677-c08e-4d04-9922-bef8b9b3f1ce\">\n",
              "    <div class=\"colab-df-container\">\n",
              "      <div>\n",
              "<style scoped>\n",
              "    .dataframe tbody tr th:only-of-type {\n",
              "        vertical-align: middle;\n",
              "    }\n",
              "\n",
              "    .dataframe tbody tr th {\n",
              "        vertical-align: top;\n",
              "    }\n",
              "\n",
              "    .dataframe thead th {\n",
              "        text-align: right;\n",
              "    }\n",
              "</style>\n",
              "<table border=\"1\" class=\"dataframe\">\n",
              "  <thead>\n",
              "    <tr style=\"text-align: right;\">\n",
              "      <th></th>\n",
              "      <th>DateTime_intake</th>\n",
              "      <th>Found_Location</th>\n",
              "      <th>Intake_Type</th>\n",
              "      <th>Sex</th>\n",
              "      <th>DateTime_outcome</th>\n",
              "      <th>Outcome_Type</th>\n",
              "    </tr>\n",
              "  </thead>\n",
              "  <tbody>\n",
              "    <tr>\n",
              "      <th>5</th>\n",
              "      <td>2016-07-21 12:16:00</td>\n",
              "      <td>3118 Windsor Rd in Austin (TX)</td>\n",
              "      <td>Stray</td>\n",
              "      <td>Spayed Female</td>\n",
              "      <td>2016-10-18 10:55:00</td>\n",
              "      <td>Adoption</td>\n",
              "    </tr>\n",
              "    <tr>\n",
              "      <th>6</th>\n",
              "      <td>2016-07-21 12:16:00</td>\n",
              "      <td>3118 Windsor Rd in Austin (TX)</td>\n",
              "      <td>Stray</td>\n",
              "      <td>Spayed Female</td>\n",
              "      <td>2014-07-23 18:06:00</td>\n",
              "      <td>Adoption</td>\n",
              "    </tr>\n",
              "    <tr>\n",
              "      <th>7</th>\n",
              "      <td>2014-07-15 15:38:00</td>\n",
              "      <td>Austin (TX)</td>\n",
              "      <td>Owner Surrender</td>\n",
              "      <td>Intact Female</td>\n",
              "      <td>2016-10-18 10:55:00</td>\n",
              "      <td>Adoption</td>\n",
              "    </tr>\n",
              "    <tr>\n",
              "      <th>8</th>\n",
              "      <td>2014-07-15 15:38:00</td>\n",
              "      <td>Austin (TX)</td>\n",
              "      <td>Owner Surrender</td>\n",
              "      <td>Intact Female</td>\n",
              "      <td>2014-07-23 18:06:00</td>\n",
              "      <td>Adoption</td>\n",
              "    </tr>\n",
              "  </tbody>\n",
              "</table>\n",
              "</div>\n",
              "      <button class=\"colab-df-convert\" onclick=\"convertToInteractive('df-bc051677-c08e-4d04-9922-bef8b9b3f1ce')\"\n",
              "              title=\"Convert this dataframe to an interactive table.\"\n",
              "              style=\"display:none;\">\n",
              "        \n",
              "  <svg xmlns=\"http://www.w3.org/2000/svg\" height=\"24px\"viewBox=\"0 0 24 24\"\n",
              "       width=\"24px\">\n",
              "    <path d=\"M0 0h24v24H0V0z\" fill=\"none\"/>\n",
              "    <path d=\"M18.56 5.44l.94 2.06.94-2.06 2.06-.94-2.06-.94-.94-2.06-.94 2.06-2.06.94zm-11 1L8.5 8.5l.94-2.06 2.06-.94-2.06-.94L8.5 2.5l-.94 2.06-2.06.94zm10 10l.94 2.06.94-2.06 2.06-.94-2.06-.94-.94-2.06-.94 2.06-2.06.94z\"/><path d=\"M17.41 7.96l-1.37-1.37c-.4-.4-.92-.59-1.43-.59-.52 0-1.04.2-1.43.59L10.3 9.45l-7.72 7.72c-.78.78-.78 2.05 0 2.83L4 21.41c.39.39.9.59 1.41.59.51 0 1.02-.2 1.41-.59l7.78-7.78 2.81-2.81c.8-.78.8-2.07 0-2.86zM5.41 20L4 18.59l7.72-7.72 1.47 1.35L5.41 20z\"/>\n",
              "  </svg>\n",
              "      </button>\n",
              "      \n",
              "  <style>\n",
              "    .colab-df-container {\n",
              "      display:flex;\n",
              "      flex-wrap:wrap;\n",
              "      gap: 12px;\n",
              "    }\n",
              "\n",
              "    .colab-df-convert {\n",
              "      background-color: #E8F0FE;\n",
              "      border: none;\n",
              "      border-radius: 50%;\n",
              "      cursor: pointer;\n",
              "      display: none;\n",
              "      fill: #1967D2;\n",
              "      height: 32px;\n",
              "      padding: 0 0 0 0;\n",
              "      width: 32px;\n",
              "    }\n",
              "\n",
              "    .colab-df-convert:hover {\n",
              "      background-color: #E2EBFA;\n",
              "      box-shadow: 0px 1px 2px rgba(60, 64, 67, 0.3), 0px 1px 3px 1px rgba(60, 64, 67, 0.15);\n",
              "      fill: #174EA6;\n",
              "    }\n",
              "\n",
              "    [theme=dark] .colab-df-convert {\n",
              "      background-color: #3B4455;\n",
              "      fill: #D2E3FC;\n",
              "    }\n",
              "\n",
              "    [theme=dark] .colab-df-convert:hover {\n",
              "      background-color: #434B5C;\n",
              "      box-shadow: 0px 1px 3px 1px rgba(0, 0, 0, 0.15);\n",
              "      filter: drop-shadow(0px 1px 2px rgba(0, 0, 0, 0.3));\n",
              "      fill: #FFFFFF;\n",
              "    }\n",
              "  </style>\n",
              "\n",
              "      <script>\n",
              "        const buttonEl =\n",
              "          document.querySelector('#df-bc051677-c08e-4d04-9922-bef8b9b3f1ce button.colab-df-convert');\n",
              "        buttonEl.style.display =\n",
              "          google.colab.kernel.accessAllowed ? 'block' : 'none';\n",
              "\n",
              "        async function convertToInteractive(key) {\n",
              "          const element = document.querySelector('#df-bc051677-c08e-4d04-9922-bef8b9b3f1ce');\n",
              "          const dataTable =\n",
              "            await google.colab.kernel.invokeFunction('convertToInteractive',\n",
              "                                                     [key], {});\n",
              "          if (!dataTable) return;\n",
              "\n",
              "          const docLinkHtml = 'Like what you see? Visit the ' +\n",
              "            '<a target=\"_blank\" href=https://colab.research.google.com/notebooks/data_table.ipynb>data table notebook</a>'\n",
              "            + ' to learn more about interactive tables.';\n",
              "          element.innerHTML = '';\n",
              "          dataTable['output_type'] = 'display_data';\n",
              "          await google.colab.output.renderOutput(dataTable, element);\n",
              "          const docLink = document.createElement('div');\n",
              "          docLink.innerHTML = docLinkHtml;\n",
              "          element.appendChild(docLink);\n",
              "        }\n",
              "      </script>\n",
              "    </div>\n",
              "  </div>\n",
              "  "
            ]
          },
          "metadata": {},
          "execution_count": 93
        }
      ]
    },
    {
      "cell_type": "markdown",
      "source": [
        "Clearly, we see that this is duplicate data stemming from a bad merge. Mustachala was clearly first taken in on 15th of June 2014 as surrendered by her owner as an intact female. She was then adopted a week later on 23rd of July but it seems that her will for freedom was stronger. She was recaptured in July 2016, this time now as a stray, but spayed female, and got readopted roughly 3 months later. Only heaven knows what journey Mustachala is on now, but we know at least that these are not supposed to be four distinct observations but two that were poorly merged. \n",
        "Therefore I decided to clean the raw data (which was kindly provided too) myself and do my own analysis on it. This is the result. Let's start with some data cleaning."
      ],
      "metadata": {
        "id": "WstGrSgzhsvy"
      }
    },
    {
      "cell_type": "markdown",
      "source": [
        "# 1 Data Cleaning "
      ],
      "metadata": {
        "id": "DCLP8mZjiww5"
      }
    },
    {
      "cell_type": "markdown",
      "source": [
        "Let's begin by dropping some duplicates. An animal that was registered with the same ID, Name, and DateTime, is surely a duplicate observation. Let's also rename the columns for the animal's sex so that we can save some typing. Finally, observe that there are *a lot* of different animal names:"
      ],
      "metadata": {
        "id": "Of9vwmDEi_1E"
      }
    },
    {
      "cell_type": "code",
      "source": [
        "intake_columns = intake_df.columns\n",
        "outcome_columns = outcome_df.columns\n",
        "\n",
        "intake_df.drop_duplicates(subset=['Animal ID', 'Name', 'DateTime'])\n",
        "outcome_df.drop_duplicates(subset=['Animal ID', 'Name', 'DateTime'])\n",
        "intake_df = intake_df.rename(columns={\"Sex upon Intake\":\"Sex\"})\n",
        "outcome_df = outcome_df.rename(columns={\"Sex upon Outcome\":\"Sex\"})\n",
        "len(intake_df[\"Name\"].unique()), len(outcome_df[\"Name\"].unique())"
      ],
      "metadata": {
        "colab": {
          "base_uri": "https://localhost:8080/"
        },
        "id": "YMY7L1wJi0q7",
        "outputId": "1e68143b-294c-4621-bde2-f2d070943e2f"
      },
      "execution_count": 94,
      "outputs": [
        {
          "output_type": "execute_result",
          "data": {
            "text/plain": [
              "(12653, 12699)"
            ]
          },
          "metadata": {},
          "execution_count": 94
        }
      ]
    },
    {
      "cell_type": "markdown",
      "source": [
        "In particular, observe that about 30% of intaken animals are nameless:"
      ],
      "metadata": {
        "id": "5tvTr5GrkruX"
      }
    },
    {
      "cell_type": "code",
      "source": [
        "intake_df[\"Name\"].isna().sum()/intake_df.shape[0]"
      ],
      "metadata": {
        "colab": {
          "base_uri": "https://localhost:8080/"
        },
        "id": "ZgytKNtPkGXE",
        "outputId": "8bdd0060-74ff-47fd-8534-4a9f07b6f1a8"
      },
      "execution_count": 95,
      "outputs": [
        {
          "output_type": "execute_result",
          "data": {
            "text/plain": [
              "0.30351503284487114"
            ]
          },
          "metadata": {},
          "execution_count": 95
        }
      ]
    },
    {
      "cell_type": "markdown",
      "source": [
        "With 12,000 unique names, yet missing-values making up 30% of them, I figured that individual names are not going to give us a lot of information. However, the information on whether an animal is given a (or has a recorded) name might make a difference. I therefore decided to only keep names recorded on intake and drop it from the outcome_df:"
      ],
      "metadata": {
        "id": "wwzo-zNLkEwK"
      }
    },
    {
      "cell_type": "code",
      "source": [
        "outcome_df.drop(\"Name\", axis = 1)\n"
      ],
      "metadata": {
        "colab": {
          "base_uri": "https://localhost:8080/",
          "height": 424
        },
        "id": "h5b6yMrWlBNt",
        "outputId": "f1115275-1a9a-45d3-f882-059c981f8ff0"
      },
      "execution_count": 96,
      "outputs": [
        {
          "output_type": "execute_result",
          "data": {
            "text/plain": [
              "      Animal ID                DateTime               MonthYear Date of Birth  \\\n",
              "0       A741715  01/11/2017 06:17:00 PM  01/11/2017 06:17:00 PM    03/07/2016   \n",
              "1       A658751  11/13/2016 01:38:00 PM  11/13/2016 01:38:00 PM    07/14/2011   \n",
              "2       A721285  02/24/2016 02:42:00 PM  02/24/2016 02:42:00 PM    02/24/2014   \n",
              "3       A707443  07/13/2015 01:50:00 PM  07/13/2015 01:50:00 PM    06/21/2015   \n",
              "4       A684346  07/22/2014 04:04:00 PM  07/22/2014 04:04:00 PM    07/07/2014   \n",
              "...         ...                     ...                     ...           ...   \n",
              "63638   A746467  04/08/2017 01:27:00 PM  04/08/2017 01:27:00 PM    01/27/2017   \n",
              "63639   A746347  04/08/2017 01:28:00 PM  04/08/2017 01:28:00 PM    10/01/2016   \n",
              "63640   A741868  04/08/2017 01:35:00 PM  04/08/2017 01:35:00 PM    11/03/2016   \n",
              "63641   A746072  04/01/2017 06:50:00 PM  04/01/2017 06:50:00 PM    03/28/2015   \n",
              "63642   A738849  04/08/2017 01:19:00 PM  04/08/2017 01:19:00 PM    11/22/2009   \n",
              "\n",
              "          Outcome Type Outcome Subtype Animal Type            Sex  \\\n",
              "0             Adoption             NaN         Cat  Spayed Female   \n",
              "1      Return to Owner             NaN         Dog  Neutered Male   \n",
              "2           Euthanasia       Suffering       Other        Unknown   \n",
              "3             Transfer         Partner         Cat  Intact Female   \n",
              "4             Transfer         Partner         Cat    Intact Male   \n",
              "...                ...             ...         ...            ...   \n",
              "63638         Adoption             NaN         Dog  Spayed Female   \n",
              "63639         Adoption         Offsite         Dog  Neutered Male   \n",
              "63640  Return to Owner             NaN         Dog  Neutered Male   \n",
              "63641         Adoption             NaN         Dog  Neutered Male   \n",
              "63642         Adoption             NaN         Dog  Neutered Male   \n",
              "\n",
              "      Age upon Outcome                        Breed                Color  \n",
              "0            10 months       Domestic Shorthair Mix               Calico  \n",
              "1              5 years           Border Terrier Mix                  Tan  \n",
              "2              2 years                  Raccoon Mix           Black/Gray  \n",
              "3              3 weeks        Domestic Longhair Mix          Black Smoke  \n",
              "4              2 weeks       Domestic Shorthair Mix         Orange Tabby  \n",
              "...                ...                          ...                  ...  \n",
              "63638         2 months             Basset Hound Mix          White/Brown  \n",
              "63639         6 months                 Pit Bull Mix          Brown/White  \n",
              "63640         5 months  Labrador Retriever/Pit Bull          Black/White  \n",
              "63641          2 years          German Shepherd Mix            Black/Tan  \n",
              "63642          7 years                    Boxer Mix  Brown Brindle/White  \n",
              "\n",
              "[63643 rows x 11 columns]"
            ],
            "text/html": [
              "\n",
              "  <div id=\"df-39f37c6c-264c-4cb2-b06d-cdd0979a19dc\">\n",
              "    <div class=\"colab-df-container\">\n",
              "      <div>\n",
              "<style scoped>\n",
              "    .dataframe tbody tr th:only-of-type {\n",
              "        vertical-align: middle;\n",
              "    }\n",
              "\n",
              "    .dataframe tbody tr th {\n",
              "        vertical-align: top;\n",
              "    }\n",
              "\n",
              "    .dataframe thead th {\n",
              "        text-align: right;\n",
              "    }\n",
              "</style>\n",
              "<table border=\"1\" class=\"dataframe\">\n",
              "  <thead>\n",
              "    <tr style=\"text-align: right;\">\n",
              "      <th></th>\n",
              "      <th>Animal ID</th>\n",
              "      <th>DateTime</th>\n",
              "      <th>MonthYear</th>\n",
              "      <th>Date of Birth</th>\n",
              "      <th>Outcome Type</th>\n",
              "      <th>Outcome Subtype</th>\n",
              "      <th>Animal Type</th>\n",
              "      <th>Sex</th>\n",
              "      <th>Age upon Outcome</th>\n",
              "      <th>Breed</th>\n",
              "      <th>Color</th>\n",
              "    </tr>\n",
              "  </thead>\n",
              "  <tbody>\n",
              "    <tr>\n",
              "      <th>0</th>\n",
              "      <td>A741715</td>\n",
              "      <td>01/11/2017 06:17:00 PM</td>\n",
              "      <td>01/11/2017 06:17:00 PM</td>\n",
              "      <td>03/07/2016</td>\n",
              "      <td>Adoption</td>\n",
              "      <td>NaN</td>\n",
              "      <td>Cat</td>\n",
              "      <td>Spayed Female</td>\n",
              "      <td>10 months</td>\n",
              "      <td>Domestic Shorthair Mix</td>\n",
              "      <td>Calico</td>\n",
              "    </tr>\n",
              "    <tr>\n",
              "      <th>1</th>\n",
              "      <td>A658751</td>\n",
              "      <td>11/13/2016 01:38:00 PM</td>\n",
              "      <td>11/13/2016 01:38:00 PM</td>\n",
              "      <td>07/14/2011</td>\n",
              "      <td>Return to Owner</td>\n",
              "      <td>NaN</td>\n",
              "      <td>Dog</td>\n",
              "      <td>Neutered Male</td>\n",
              "      <td>5 years</td>\n",
              "      <td>Border Terrier Mix</td>\n",
              "      <td>Tan</td>\n",
              "    </tr>\n",
              "    <tr>\n",
              "      <th>2</th>\n",
              "      <td>A721285</td>\n",
              "      <td>02/24/2016 02:42:00 PM</td>\n",
              "      <td>02/24/2016 02:42:00 PM</td>\n",
              "      <td>02/24/2014</td>\n",
              "      <td>Euthanasia</td>\n",
              "      <td>Suffering</td>\n",
              "      <td>Other</td>\n",
              "      <td>Unknown</td>\n",
              "      <td>2 years</td>\n",
              "      <td>Raccoon Mix</td>\n",
              "      <td>Black/Gray</td>\n",
              "    </tr>\n",
              "    <tr>\n",
              "      <th>3</th>\n",
              "      <td>A707443</td>\n",
              "      <td>07/13/2015 01:50:00 PM</td>\n",
              "      <td>07/13/2015 01:50:00 PM</td>\n",
              "      <td>06/21/2015</td>\n",
              "      <td>Transfer</td>\n",
              "      <td>Partner</td>\n",
              "      <td>Cat</td>\n",
              "      <td>Intact Female</td>\n",
              "      <td>3 weeks</td>\n",
              "      <td>Domestic Longhair Mix</td>\n",
              "      <td>Black Smoke</td>\n",
              "    </tr>\n",
              "    <tr>\n",
              "      <th>4</th>\n",
              "      <td>A684346</td>\n",
              "      <td>07/22/2014 04:04:00 PM</td>\n",
              "      <td>07/22/2014 04:04:00 PM</td>\n",
              "      <td>07/07/2014</td>\n",
              "      <td>Transfer</td>\n",
              "      <td>Partner</td>\n",
              "      <td>Cat</td>\n",
              "      <td>Intact Male</td>\n",
              "      <td>2 weeks</td>\n",
              "      <td>Domestic Shorthair Mix</td>\n",
              "      <td>Orange Tabby</td>\n",
              "    </tr>\n",
              "    <tr>\n",
              "      <th>...</th>\n",
              "      <td>...</td>\n",
              "      <td>...</td>\n",
              "      <td>...</td>\n",
              "      <td>...</td>\n",
              "      <td>...</td>\n",
              "      <td>...</td>\n",
              "      <td>...</td>\n",
              "      <td>...</td>\n",
              "      <td>...</td>\n",
              "      <td>...</td>\n",
              "      <td>...</td>\n",
              "    </tr>\n",
              "    <tr>\n",
              "      <th>63638</th>\n",
              "      <td>A746467</td>\n",
              "      <td>04/08/2017 01:27:00 PM</td>\n",
              "      <td>04/08/2017 01:27:00 PM</td>\n",
              "      <td>01/27/2017</td>\n",
              "      <td>Adoption</td>\n",
              "      <td>NaN</td>\n",
              "      <td>Dog</td>\n",
              "      <td>Spayed Female</td>\n",
              "      <td>2 months</td>\n",
              "      <td>Basset Hound Mix</td>\n",
              "      <td>White/Brown</td>\n",
              "    </tr>\n",
              "    <tr>\n",
              "      <th>63639</th>\n",
              "      <td>A746347</td>\n",
              "      <td>04/08/2017 01:28:00 PM</td>\n",
              "      <td>04/08/2017 01:28:00 PM</td>\n",
              "      <td>10/01/2016</td>\n",
              "      <td>Adoption</td>\n",
              "      <td>Offsite</td>\n",
              "      <td>Dog</td>\n",
              "      <td>Neutered Male</td>\n",
              "      <td>6 months</td>\n",
              "      <td>Pit Bull Mix</td>\n",
              "      <td>Brown/White</td>\n",
              "    </tr>\n",
              "    <tr>\n",
              "      <th>63640</th>\n",
              "      <td>A741868</td>\n",
              "      <td>04/08/2017 01:35:00 PM</td>\n",
              "      <td>04/08/2017 01:35:00 PM</td>\n",
              "      <td>11/03/2016</td>\n",
              "      <td>Return to Owner</td>\n",
              "      <td>NaN</td>\n",
              "      <td>Dog</td>\n",
              "      <td>Neutered Male</td>\n",
              "      <td>5 months</td>\n",
              "      <td>Labrador Retriever/Pit Bull</td>\n",
              "      <td>Black/White</td>\n",
              "    </tr>\n",
              "    <tr>\n",
              "      <th>63641</th>\n",
              "      <td>A746072</td>\n",
              "      <td>04/01/2017 06:50:00 PM</td>\n",
              "      <td>04/01/2017 06:50:00 PM</td>\n",
              "      <td>03/28/2015</td>\n",
              "      <td>Adoption</td>\n",
              "      <td>NaN</td>\n",
              "      <td>Dog</td>\n",
              "      <td>Neutered Male</td>\n",
              "      <td>2 years</td>\n",
              "      <td>German Shepherd Mix</td>\n",
              "      <td>Black/Tan</td>\n",
              "    </tr>\n",
              "    <tr>\n",
              "      <th>63642</th>\n",
              "      <td>A738849</td>\n",
              "      <td>04/08/2017 01:19:00 PM</td>\n",
              "      <td>04/08/2017 01:19:00 PM</td>\n",
              "      <td>11/22/2009</td>\n",
              "      <td>Adoption</td>\n",
              "      <td>NaN</td>\n",
              "      <td>Dog</td>\n",
              "      <td>Neutered Male</td>\n",
              "      <td>7 years</td>\n",
              "      <td>Boxer Mix</td>\n",
              "      <td>Brown Brindle/White</td>\n",
              "    </tr>\n",
              "  </tbody>\n",
              "</table>\n",
              "<p>63643 rows × 11 columns</p>\n",
              "</div>\n",
              "      <button class=\"colab-df-convert\" onclick=\"convertToInteractive('df-39f37c6c-264c-4cb2-b06d-cdd0979a19dc')\"\n",
              "              title=\"Convert this dataframe to an interactive table.\"\n",
              "              style=\"display:none;\">\n",
              "        \n",
              "  <svg xmlns=\"http://www.w3.org/2000/svg\" height=\"24px\"viewBox=\"0 0 24 24\"\n",
              "       width=\"24px\">\n",
              "    <path d=\"M0 0h24v24H0V0z\" fill=\"none\"/>\n",
              "    <path d=\"M18.56 5.44l.94 2.06.94-2.06 2.06-.94-2.06-.94-.94-2.06-.94 2.06-2.06.94zm-11 1L8.5 8.5l.94-2.06 2.06-.94-2.06-.94L8.5 2.5l-.94 2.06-2.06.94zm10 10l.94 2.06.94-2.06 2.06-.94-2.06-.94-.94-2.06-.94 2.06-2.06.94z\"/><path d=\"M17.41 7.96l-1.37-1.37c-.4-.4-.92-.59-1.43-.59-.52 0-1.04.2-1.43.59L10.3 9.45l-7.72 7.72c-.78.78-.78 2.05 0 2.83L4 21.41c.39.39.9.59 1.41.59.51 0 1.02-.2 1.41-.59l7.78-7.78 2.81-2.81c.8-.78.8-2.07 0-2.86zM5.41 20L4 18.59l7.72-7.72 1.47 1.35L5.41 20z\"/>\n",
              "  </svg>\n",
              "      </button>\n",
              "      \n",
              "  <style>\n",
              "    .colab-df-container {\n",
              "      display:flex;\n",
              "      flex-wrap:wrap;\n",
              "      gap: 12px;\n",
              "    }\n",
              "\n",
              "    .colab-df-convert {\n",
              "      background-color: #E8F0FE;\n",
              "      border: none;\n",
              "      border-radius: 50%;\n",
              "      cursor: pointer;\n",
              "      display: none;\n",
              "      fill: #1967D2;\n",
              "      height: 32px;\n",
              "      padding: 0 0 0 0;\n",
              "      width: 32px;\n",
              "    }\n",
              "\n",
              "    .colab-df-convert:hover {\n",
              "      background-color: #E2EBFA;\n",
              "      box-shadow: 0px 1px 2px rgba(60, 64, 67, 0.3), 0px 1px 3px 1px rgba(60, 64, 67, 0.15);\n",
              "      fill: #174EA6;\n",
              "    }\n",
              "\n",
              "    [theme=dark] .colab-df-convert {\n",
              "      background-color: #3B4455;\n",
              "      fill: #D2E3FC;\n",
              "    }\n",
              "\n",
              "    [theme=dark] .colab-df-convert:hover {\n",
              "      background-color: #434B5C;\n",
              "      box-shadow: 0px 1px 3px 1px rgba(0, 0, 0, 0.15);\n",
              "      filter: drop-shadow(0px 1px 2px rgba(0, 0, 0, 0.3));\n",
              "      fill: #FFFFFF;\n",
              "    }\n",
              "  </style>\n",
              "\n",
              "      <script>\n",
              "        const buttonEl =\n",
              "          document.querySelector('#df-39f37c6c-264c-4cb2-b06d-cdd0979a19dc button.colab-df-convert');\n",
              "        buttonEl.style.display =\n",
              "          google.colab.kernel.accessAllowed ? 'block' : 'none';\n",
              "\n",
              "        async function convertToInteractive(key) {\n",
              "          const element = document.querySelector('#df-39f37c6c-264c-4cb2-b06d-cdd0979a19dc');\n",
              "          const dataTable =\n",
              "            await google.colab.kernel.invokeFunction('convertToInteractive',\n",
              "                                                     [key], {});\n",
              "          if (!dataTable) return;\n",
              "\n",
              "          const docLinkHtml = 'Like what you see? Visit the ' +\n",
              "            '<a target=\"_blank\" href=https://colab.research.google.com/notebooks/data_table.ipynb>data table notebook</a>'\n",
              "            + ' to learn more about interactive tables.';\n",
              "          element.innerHTML = '';\n",
              "          dataTable['output_type'] = 'display_data';\n",
              "          await google.colab.output.renderOutput(dataTable, element);\n",
              "          const docLink = document.createElement('div');\n",
              "          docLink.innerHTML = docLinkHtml;\n",
              "          element.appendChild(docLink);\n",
              "        }\n",
              "      </script>\n",
              "    </div>\n",
              "  </div>\n",
              "  "
            ]
          },
          "metadata": {},
          "execution_count": 96
        }
      ]
    },
    {
      "cell_type": "markdown",
      "source": [
        "Next, we merge the data on Animal ID, Animal Type, Breed, Color, and Sex. That should guarantee us that we do not end up with many duplicates, but out of caution we will anyhow drop any duplicate observations containing both the same Animal ID and DateTime on Intake: they will be doubled.\n",
        "We rename the \"Name_x\" column to \"Name\" and select only those variables that can plausibly be relevant (e.g. getting rid of Animal ID, among others):"
      ],
      "metadata": {
        "id": "rMg_czBmlB2D"
      }
    },
    {
      "cell_type": "code",
      "source": [
        "merge_df = intake_df.merge(outcome_df, left_on=[\"Animal ID\", \"Animal Type\", \"Breed\", \"Color\", \"Sex\"], right_on=[\"Animal ID\", \"Animal Type\", \"Breed\", \"Color\", \"Sex\"])\n",
        "\n",
        "merge_df = merge_df.drop_duplicates(subset=['Animal ID', 'DateTime_x'])\n",
        "merge_df = merge_df.rename(columns = {\"Name_x\":\"Name\"})\n",
        "\n",
        "X = merge_df[[\"Name\",\"DateTime_x\", \"MonthYear_x\", \"Intake Type\", \"Intake Condition\", \"Animal Type\", \"Sex\", \"Age upon Intake\", \"Breed\", \"Color\", \"DateTime_y\", \"MonthYear_y\", \"Date of Birth\", \"Outcome Type\", \"Outcome Subtype\", \"Age upon Outcome\"]]"
      ],
      "metadata": {
        "id": "SxPJII4ZlNc6"
      },
      "execution_count": 97,
      "outputs": []
    },
    {
      "cell_type": "markdown",
      "source": [
        "Observe that one possible \"Intake Type\" is \"Requested Euthanasia\". From all animals (240) of this type, almost all were either killed, died, or transferred:"
      ],
      "metadata": {
        "id": "wYhVxldGlpHS"
      }
    },
    {
      "cell_type": "code",
      "source": [
        "X[X[\"Intake Type\"]==\"Euthanasia Request\"][\"Outcome Type\"].value_counts()[:5].sort_values(ascending=False)"
      ],
      "metadata": {
        "colab": {
          "base_uri": "https://localhost:8080/"
        },
        "id": "n8HCBH3_l5E8",
        "outputId": "6a2efc81-b710-4378-f228-0aceaf5b02e8"
      },
      "execution_count": 98,
      "outputs": [
        {
          "output_type": "execute_result",
          "data": {
            "text/plain": [
              "Euthanasia         188\n",
              "Transfer            27\n",
              "Adoption            13\n",
              "Return to Owner      9\n",
              "Died                 3\n",
              "Name: Outcome Type, dtype: int64"
            ]
          },
          "metadata": {},
          "execution_count": 98
        }
      ]
    },
    {
      "cell_type": "markdown",
      "source": [
        "We will therefore exclude Intake Type \"Euthanasia Request\" because it will almost surely end in a dead animal anyhow. We are more interested in animals that have a shot of making it.\n",
        "Next, let's only keep those animals that were not set up for euthanasia, and we code a dummy variable for whether the name of an animal is missing."
      ],
      "metadata": {
        "id": "YoqHYBz0mgWu"
      }
    },
    {
      "cell_type": "code",
      "source": [
        "X = X[X[\"Intake Type\"].isin([\"Stray\",\"Wildlife\", \"Owner Surrender\", \"Public Assist\"])]\n",
        "\n",
        "X_temp = pd.get_dummies(X, columns= [\"Name\"], dummy_na = True)\n",
        "X_new = X_temp[[\"Name_nan\", \"DateTime_x\", \"MonthYear_x\", \"Intake Type\", \"Intake Condition\", \"Animal Type\", \"Sex\", \"Age upon Intake\", \"Breed\", \"Color\", \"DateTime_y\", \"MonthYear_y\", \"Date of Birth\", \"Outcome Type\", \"Outcome Subtype\", \"Age upon Outcome\"]]\n"
      ],
      "metadata": {
        "id": "Gfw5iM1Vl5VM"
      },
      "execution_count": 99,
      "outputs": []
    },
    {
      "cell_type": "markdown",
      "source": [
        "Next, observe that this dataset also contains data on birds, livestock, or \"Other\":"
      ],
      "metadata": {
        "id": "-XAYocvimz95"
      }
    },
    {
      "cell_type": "code",
      "source": [
        "X_new[X_new[\"Animal Type\"]==\"Other\"].head()"
      ],
      "metadata": {
        "colab": {
          "base_uri": "https://localhost:8080/",
          "height": 354
        },
        "id": "42SvKlgCm0iK",
        "outputId": "ccf81961-9a79-41bd-89cc-3072437eeb8f"
      },
      "execution_count": 100,
      "outputs": [
        {
          "output_type": "execute_result",
          "data": {
            "text/plain": [
              "    Name_nan              DateTime_x             MonthYear_x      Intake Type  \\\n",
              "6          1  01/18/2015 06:18:00 PM  01/18/2015 06:18:00 PM         Wildlife   \n",
              "19         1  08/26/2016 04:12:00 PM  08/26/2016 04:12:00 PM         Wildlife   \n",
              "26         1  10/26/2015 05:37:00 PM  10/26/2015 05:37:00 PM  Owner Surrender   \n",
              "30         1  03/17/2016 02:41:00 PM  03/17/2016 02:41:00 PM         Wildlife   \n",
              "53         1  02/25/2017 02:44:00 PM  02/25/2017 02:44:00 PM            Stray   \n",
              "\n",
              "   Intake Condition Animal Type            Sex Age upon Intake        Breed  \\\n",
              "6              Sick       Other        Unknown        6 months  Opossum Mix   \n",
              "19           Normal       Other        Unknown          1 year  Raccoon Mix   \n",
              "26           Normal       Other        Unknown        6 months  Hamster Mix   \n",
              "30          Injured       Other        Unknown          1 year  Opossum Mix   \n",
              "53           Normal       Other  Intact Female          1 year   Havana Mix   \n",
              "\n",
              "         Color              DateTime_y             MonthYear_y Date of Birth  \\\n",
              "6         Gray  01/18/2015 06:33:00 PM  01/18/2015 06:33:00 PM    07/18/2014   \n",
              "19        Gray  08/28/2016 09:03:00 AM  08/28/2016 09:03:00 AM    08/26/2015   \n",
              "26  Gray/White  10/27/2015 02:55:00 PM  10/27/2015 02:55:00 PM    04/26/2015   \n",
              "30  Gray/White  03/17/2016 03:01:00 PM  03/17/2016 03:01:00 PM    03/17/2015   \n",
              "53       Black  02/28/2017 09:01:00 AM  02/28/2017 09:01:00 AM    02/25/2016   \n",
              "\n",
              "   Outcome Type Outcome Subtype Age upon Outcome  \n",
              "6    Euthanasia         Medical         6 months  \n",
              "19   Euthanasia     Rabies Risk           1 year  \n",
              "26     Transfer         Partner         6 months  \n",
              "30   Euthanasia       Suffering           1 year  \n",
              "53     Transfer         Partner           1 year  "
            ],
            "text/html": [
              "\n",
              "  <div id=\"df-10cd217f-4a15-4da7-80e6-3df2927e5a7b\">\n",
              "    <div class=\"colab-df-container\">\n",
              "      <div>\n",
              "<style scoped>\n",
              "    .dataframe tbody tr th:only-of-type {\n",
              "        vertical-align: middle;\n",
              "    }\n",
              "\n",
              "    .dataframe tbody tr th {\n",
              "        vertical-align: top;\n",
              "    }\n",
              "\n",
              "    .dataframe thead th {\n",
              "        text-align: right;\n",
              "    }\n",
              "</style>\n",
              "<table border=\"1\" class=\"dataframe\">\n",
              "  <thead>\n",
              "    <tr style=\"text-align: right;\">\n",
              "      <th></th>\n",
              "      <th>Name_nan</th>\n",
              "      <th>DateTime_x</th>\n",
              "      <th>MonthYear_x</th>\n",
              "      <th>Intake Type</th>\n",
              "      <th>Intake Condition</th>\n",
              "      <th>Animal Type</th>\n",
              "      <th>Sex</th>\n",
              "      <th>Age upon Intake</th>\n",
              "      <th>Breed</th>\n",
              "      <th>Color</th>\n",
              "      <th>DateTime_y</th>\n",
              "      <th>MonthYear_y</th>\n",
              "      <th>Date of Birth</th>\n",
              "      <th>Outcome Type</th>\n",
              "      <th>Outcome Subtype</th>\n",
              "      <th>Age upon Outcome</th>\n",
              "    </tr>\n",
              "  </thead>\n",
              "  <tbody>\n",
              "    <tr>\n",
              "      <th>6</th>\n",
              "      <td>1</td>\n",
              "      <td>01/18/2015 06:18:00 PM</td>\n",
              "      <td>01/18/2015 06:18:00 PM</td>\n",
              "      <td>Wildlife</td>\n",
              "      <td>Sick</td>\n",
              "      <td>Other</td>\n",
              "      <td>Unknown</td>\n",
              "      <td>6 months</td>\n",
              "      <td>Opossum Mix</td>\n",
              "      <td>Gray</td>\n",
              "      <td>01/18/2015 06:33:00 PM</td>\n",
              "      <td>01/18/2015 06:33:00 PM</td>\n",
              "      <td>07/18/2014</td>\n",
              "      <td>Euthanasia</td>\n",
              "      <td>Medical</td>\n",
              "      <td>6 months</td>\n",
              "    </tr>\n",
              "    <tr>\n",
              "      <th>19</th>\n",
              "      <td>1</td>\n",
              "      <td>08/26/2016 04:12:00 PM</td>\n",
              "      <td>08/26/2016 04:12:00 PM</td>\n",
              "      <td>Wildlife</td>\n",
              "      <td>Normal</td>\n",
              "      <td>Other</td>\n",
              "      <td>Unknown</td>\n",
              "      <td>1 year</td>\n",
              "      <td>Raccoon Mix</td>\n",
              "      <td>Gray</td>\n",
              "      <td>08/28/2016 09:03:00 AM</td>\n",
              "      <td>08/28/2016 09:03:00 AM</td>\n",
              "      <td>08/26/2015</td>\n",
              "      <td>Euthanasia</td>\n",
              "      <td>Rabies Risk</td>\n",
              "      <td>1 year</td>\n",
              "    </tr>\n",
              "    <tr>\n",
              "      <th>26</th>\n",
              "      <td>1</td>\n",
              "      <td>10/26/2015 05:37:00 PM</td>\n",
              "      <td>10/26/2015 05:37:00 PM</td>\n",
              "      <td>Owner Surrender</td>\n",
              "      <td>Normal</td>\n",
              "      <td>Other</td>\n",
              "      <td>Unknown</td>\n",
              "      <td>6 months</td>\n",
              "      <td>Hamster Mix</td>\n",
              "      <td>Gray/White</td>\n",
              "      <td>10/27/2015 02:55:00 PM</td>\n",
              "      <td>10/27/2015 02:55:00 PM</td>\n",
              "      <td>04/26/2015</td>\n",
              "      <td>Transfer</td>\n",
              "      <td>Partner</td>\n",
              "      <td>6 months</td>\n",
              "    </tr>\n",
              "    <tr>\n",
              "      <th>30</th>\n",
              "      <td>1</td>\n",
              "      <td>03/17/2016 02:41:00 PM</td>\n",
              "      <td>03/17/2016 02:41:00 PM</td>\n",
              "      <td>Wildlife</td>\n",
              "      <td>Injured</td>\n",
              "      <td>Other</td>\n",
              "      <td>Unknown</td>\n",
              "      <td>1 year</td>\n",
              "      <td>Opossum Mix</td>\n",
              "      <td>Gray/White</td>\n",
              "      <td>03/17/2016 03:01:00 PM</td>\n",
              "      <td>03/17/2016 03:01:00 PM</td>\n",
              "      <td>03/17/2015</td>\n",
              "      <td>Euthanasia</td>\n",
              "      <td>Suffering</td>\n",
              "      <td>1 year</td>\n",
              "    </tr>\n",
              "    <tr>\n",
              "      <th>53</th>\n",
              "      <td>1</td>\n",
              "      <td>02/25/2017 02:44:00 PM</td>\n",
              "      <td>02/25/2017 02:44:00 PM</td>\n",
              "      <td>Stray</td>\n",
              "      <td>Normal</td>\n",
              "      <td>Other</td>\n",
              "      <td>Intact Female</td>\n",
              "      <td>1 year</td>\n",
              "      <td>Havana Mix</td>\n",
              "      <td>Black</td>\n",
              "      <td>02/28/2017 09:01:00 AM</td>\n",
              "      <td>02/28/2017 09:01:00 AM</td>\n",
              "      <td>02/25/2016</td>\n",
              "      <td>Transfer</td>\n",
              "      <td>Partner</td>\n",
              "      <td>1 year</td>\n",
              "    </tr>\n",
              "  </tbody>\n",
              "</table>\n",
              "</div>\n",
              "      <button class=\"colab-df-convert\" onclick=\"convertToInteractive('df-10cd217f-4a15-4da7-80e6-3df2927e5a7b')\"\n",
              "              title=\"Convert this dataframe to an interactive table.\"\n",
              "              style=\"display:none;\">\n",
              "        \n",
              "  <svg xmlns=\"http://www.w3.org/2000/svg\" height=\"24px\"viewBox=\"0 0 24 24\"\n",
              "       width=\"24px\">\n",
              "    <path d=\"M0 0h24v24H0V0z\" fill=\"none\"/>\n",
              "    <path d=\"M18.56 5.44l.94 2.06.94-2.06 2.06-.94-2.06-.94-.94-2.06-.94 2.06-2.06.94zm-11 1L8.5 8.5l.94-2.06 2.06-.94-2.06-.94L8.5 2.5l-.94 2.06-2.06.94zm10 10l.94 2.06.94-2.06 2.06-.94-2.06-.94-.94-2.06-.94 2.06-2.06.94z\"/><path d=\"M17.41 7.96l-1.37-1.37c-.4-.4-.92-.59-1.43-.59-.52 0-1.04.2-1.43.59L10.3 9.45l-7.72 7.72c-.78.78-.78 2.05 0 2.83L4 21.41c.39.39.9.59 1.41.59.51 0 1.02-.2 1.41-.59l7.78-7.78 2.81-2.81c.8-.78.8-2.07 0-2.86zM5.41 20L4 18.59l7.72-7.72 1.47 1.35L5.41 20z\"/>\n",
              "  </svg>\n",
              "      </button>\n",
              "      \n",
              "  <style>\n",
              "    .colab-df-container {\n",
              "      display:flex;\n",
              "      flex-wrap:wrap;\n",
              "      gap: 12px;\n",
              "    }\n",
              "\n",
              "    .colab-df-convert {\n",
              "      background-color: #E8F0FE;\n",
              "      border: none;\n",
              "      border-radius: 50%;\n",
              "      cursor: pointer;\n",
              "      display: none;\n",
              "      fill: #1967D2;\n",
              "      height: 32px;\n",
              "      padding: 0 0 0 0;\n",
              "      width: 32px;\n",
              "    }\n",
              "\n",
              "    .colab-df-convert:hover {\n",
              "      background-color: #E2EBFA;\n",
              "      box-shadow: 0px 1px 2px rgba(60, 64, 67, 0.3), 0px 1px 3px 1px rgba(60, 64, 67, 0.15);\n",
              "      fill: #174EA6;\n",
              "    }\n",
              "\n",
              "    [theme=dark] .colab-df-convert {\n",
              "      background-color: #3B4455;\n",
              "      fill: #D2E3FC;\n",
              "    }\n",
              "\n",
              "    [theme=dark] .colab-df-convert:hover {\n",
              "      background-color: #434B5C;\n",
              "      box-shadow: 0px 1px 3px 1px rgba(0, 0, 0, 0.15);\n",
              "      filter: drop-shadow(0px 1px 2px rgba(0, 0, 0, 0.3));\n",
              "      fill: #FFFFFF;\n",
              "    }\n",
              "  </style>\n",
              "\n",
              "      <script>\n",
              "        const buttonEl =\n",
              "          document.querySelector('#df-10cd217f-4a15-4da7-80e6-3df2927e5a7b button.colab-df-convert');\n",
              "        buttonEl.style.display =\n",
              "          google.colab.kernel.accessAllowed ? 'block' : 'none';\n",
              "\n",
              "        async function convertToInteractive(key) {\n",
              "          const element = document.querySelector('#df-10cd217f-4a15-4da7-80e6-3df2927e5a7b');\n",
              "          const dataTable =\n",
              "            await google.colab.kernel.invokeFunction('convertToInteractive',\n",
              "                                                     [key], {});\n",
              "          if (!dataTable) return;\n",
              "\n",
              "          const docLinkHtml = 'Like what you see? Visit the ' +\n",
              "            '<a target=\"_blank\" href=https://colab.research.google.com/notebooks/data_table.ipynb>data table notebook</a>'\n",
              "            + ' to learn more about interactive tables.';\n",
              "          element.innerHTML = '';\n",
              "          dataTable['output_type'] = 'display_data';\n",
              "          await google.colab.output.renderOutput(dataTable, element);\n",
              "          const docLink = document.createElement('div');\n",
              "          docLink.innerHTML = docLinkHtml;\n",
              "          element.appendChild(docLink);\n",
              "        }\n",
              "      </script>\n",
              "    </div>\n",
              "  </div>\n",
              "  "
            ]
          },
          "metadata": {},
          "execution_count": 100
        }
      ]
    },
    {
      "cell_type": "code",
      "source": [
        "X_new[X_new[\"Animal Type\"]==\"Livestock\"].head()"
      ],
      "metadata": {
        "colab": {
          "base_uri": "https://localhost:8080/",
          "height": 354
        },
        "id": "w0oLh28gnUVF",
        "outputId": "56daa539-0465-414c-b184-acf22822c095"
      },
      "execution_count": 101,
      "outputs": [
        {
          "output_type": "execute_result",
          "data": {
            "text/plain": [
              "       Name_nan              DateTime_x             MonthYear_x  \\\n",
              "6818          1  02/28/2014 11:06:00 AM  02/28/2014 11:06:00 AM   \n",
              "15370         1  01/09/2016 12:14:00 PM  01/09/2016 12:14:00 PM   \n",
              "24587         1  01/17/2017 12:22:00 PM  01/17/2017 12:22:00 PM   \n",
              "36309         1  03/09/2014 04:45:00 PM  03/09/2014 04:45:00 PM   \n",
              "38137         1  05/22/2014 02:22:00 PM  05/22/2014 02:22:00 PM   \n",
              "\n",
              "           Intake Type Intake Condition Animal Type            Sex  \\\n",
              "6818             Stray           Normal   Livestock  Neutered Male   \n",
              "15370            Stray           Normal   Livestock    Intact Male   \n",
              "24587  Owner Surrender           Normal   Livestock  Intact Female   \n",
              "36309            Stray           Normal   Livestock        Unknown   \n",
              "38137            Stray           Normal   Livestock    Intact Male   \n",
              "\n",
              "      Age upon Intake             Breed        Color              DateTime_y  \\\n",
              "6818           1 year           Pig Mix  Black/White  03/11/2014 02:39:00 PM   \n",
              "15370          1 year           Pig Mix        White  01/27/2016 12:00:00 AM   \n",
              "24587        6 months  Potbelly Pig Mix  Black/White  03/15/2017 12:49:00 PM   \n",
              "36309         2 weeks           Pig Mix        Black  03/29/2014 02:00:00 PM   \n",
              "38137        5 months          Goat Mix        Black  06/17/2014 10:30:00 AM   \n",
              "\n",
              "                  MonthYear_y Date of Birth Outcome Type Outcome Subtype  \\\n",
              "6818   03/11/2014 02:39:00 PM    02/28/2013     Adoption          Foster   \n",
              "15370  01/27/2016 12:00:00 AM    01/09/2015     Transfer         Partner   \n",
              "24587  03/15/2017 12:49:00 PM    07/17/2016     Transfer         Partner   \n",
              "36309  03/29/2014 02:00:00 PM    02/22/2014     Adoption          Foster   \n",
              "38137  06/17/2014 10:30:00 AM    11/22/2013     Transfer         Partner   \n",
              "\n",
              "      Age upon Outcome  \n",
              "6818            1 year  \n",
              "15370           1 year  \n",
              "24587         7 months  \n",
              "36309          5 weeks  \n",
              "38137         6 months  "
            ],
            "text/html": [
              "\n",
              "  <div id=\"df-4e011aa4-47b2-426e-aef4-8ebed5a39860\">\n",
              "    <div class=\"colab-df-container\">\n",
              "      <div>\n",
              "<style scoped>\n",
              "    .dataframe tbody tr th:only-of-type {\n",
              "        vertical-align: middle;\n",
              "    }\n",
              "\n",
              "    .dataframe tbody tr th {\n",
              "        vertical-align: top;\n",
              "    }\n",
              "\n",
              "    .dataframe thead th {\n",
              "        text-align: right;\n",
              "    }\n",
              "</style>\n",
              "<table border=\"1\" class=\"dataframe\">\n",
              "  <thead>\n",
              "    <tr style=\"text-align: right;\">\n",
              "      <th></th>\n",
              "      <th>Name_nan</th>\n",
              "      <th>DateTime_x</th>\n",
              "      <th>MonthYear_x</th>\n",
              "      <th>Intake Type</th>\n",
              "      <th>Intake Condition</th>\n",
              "      <th>Animal Type</th>\n",
              "      <th>Sex</th>\n",
              "      <th>Age upon Intake</th>\n",
              "      <th>Breed</th>\n",
              "      <th>Color</th>\n",
              "      <th>DateTime_y</th>\n",
              "      <th>MonthYear_y</th>\n",
              "      <th>Date of Birth</th>\n",
              "      <th>Outcome Type</th>\n",
              "      <th>Outcome Subtype</th>\n",
              "      <th>Age upon Outcome</th>\n",
              "    </tr>\n",
              "  </thead>\n",
              "  <tbody>\n",
              "    <tr>\n",
              "      <th>6818</th>\n",
              "      <td>1</td>\n",
              "      <td>02/28/2014 11:06:00 AM</td>\n",
              "      <td>02/28/2014 11:06:00 AM</td>\n",
              "      <td>Stray</td>\n",
              "      <td>Normal</td>\n",
              "      <td>Livestock</td>\n",
              "      <td>Neutered Male</td>\n",
              "      <td>1 year</td>\n",
              "      <td>Pig Mix</td>\n",
              "      <td>Black/White</td>\n",
              "      <td>03/11/2014 02:39:00 PM</td>\n",
              "      <td>03/11/2014 02:39:00 PM</td>\n",
              "      <td>02/28/2013</td>\n",
              "      <td>Adoption</td>\n",
              "      <td>Foster</td>\n",
              "      <td>1 year</td>\n",
              "    </tr>\n",
              "    <tr>\n",
              "      <th>15370</th>\n",
              "      <td>1</td>\n",
              "      <td>01/09/2016 12:14:00 PM</td>\n",
              "      <td>01/09/2016 12:14:00 PM</td>\n",
              "      <td>Stray</td>\n",
              "      <td>Normal</td>\n",
              "      <td>Livestock</td>\n",
              "      <td>Intact Male</td>\n",
              "      <td>1 year</td>\n",
              "      <td>Pig Mix</td>\n",
              "      <td>White</td>\n",
              "      <td>01/27/2016 12:00:00 AM</td>\n",
              "      <td>01/27/2016 12:00:00 AM</td>\n",
              "      <td>01/09/2015</td>\n",
              "      <td>Transfer</td>\n",
              "      <td>Partner</td>\n",
              "      <td>1 year</td>\n",
              "    </tr>\n",
              "    <tr>\n",
              "      <th>24587</th>\n",
              "      <td>1</td>\n",
              "      <td>01/17/2017 12:22:00 PM</td>\n",
              "      <td>01/17/2017 12:22:00 PM</td>\n",
              "      <td>Owner Surrender</td>\n",
              "      <td>Normal</td>\n",
              "      <td>Livestock</td>\n",
              "      <td>Intact Female</td>\n",
              "      <td>6 months</td>\n",
              "      <td>Potbelly Pig Mix</td>\n",
              "      <td>Black/White</td>\n",
              "      <td>03/15/2017 12:49:00 PM</td>\n",
              "      <td>03/15/2017 12:49:00 PM</td>\n",
              "      <td>07/17/2016</td>\n",
              "      <td>Transfer</td>\n",
              "      <td>Partner</td>\n",
              "      <td>7 months</td>\n",
              "    </tr>\n",
              "    <tr>\n",
              "      <th>36309</th>\n",
              "      <td>1</td>\n",
              "      <td>03/09/2014 04:45:00 PM</td>\n",
              "      <td>03/09/2014 04:45:00 PM</td>\n",
              "      <td>Stray</td>\n",
              "      <td>Normal</td>\n",
              "      <td>Livestock</td>\n",
              "      <td>Unknown</td>\n",
              "      <td>2 weeks</td>\n",
              "      <td>Pig Mix</td>\n",
              "      <td>Black</td>\n",
              "      <td>03/29/2014 02:00:00 PM</td>\n",
              "      <td>03/29/2014 02:00:00 PM</td>\n",
              "      <td>02/22/2014</td>\n",
              "      <td>Adoption</td>\n",
              "      <td>Foster</td>\n",
              "      <td>5 weeks</td>\n",
              "    </tr>\n",
              "    <tr>\n",
              "      <th>38137</th>\n",
              "      <td>1</td>\n",
              "      <td>05/22/2014 02:22:00 PM</td>\n",
              "      <td>05/22/2014 02:22:00 PM</td>\n",
              "      <td>Stray</td>\n",
              "      <td>Normal</td>\n",
              "      <td>Livestock</td>\n",
              "      <td>Intact Male</td>\n",
              "      <td>5 months</td>\n",
              "      <td>Goat Mix</td>\n",
              "      <td>Black</td>\n",
              "      <td>06/17/2014 10:30:00 AM</td>\n",
              "      <td>06/17/2014 10:30:00 AM</td>\n",
              "      <td>11/22/2013</td>\n",
              "      <td>Transfer</td>\n",
              "      <td>Partner</td>\n",
              "      <td>6 months</td>\n",
              "    </tr>\n",
              "  </tbody>\n",
              "</table>\n",
              "</div>\n",
              "      <button class=\"colab-df-convert\" onclick=\"convertToInteractive('df-4e011aa4-47b2-426e-aef4-8ebed5a39860')\"\n",
              "              title=\"Convert this dataframe to an interactive table.\"\n",
              "              style=\"display:none;\">\n",
              "        \n",
              "  <svg xmlns=\"http://www.w3.org/2000/svg\" height=\"24px\"viewBox=\"0 0 24 24\"\n",
              "       width=\"24px\">\n",
              "    <path d=\"M0 0h24v24H0V0z\" fill=\"none\"/>\n",
              "    <path d=\"M18.56 5.44l.94 2.06.94-2.06 2.06-.94-2.06-.94-.94-2.06-.94 2.06-2.06.94zm-11 1L8.5 8.5l.94-2.06 2.06-.94-2.06-.94L8.5 2.5l-.94 2.06-2.06.94zm10 10l.94 2.06.94-2.06 2.06-.94-2.06-.94-.94-2.06-.94 2.06-2.06.94z\"/><path d=\"M17.41 7.96l-1.37-1.37c-.4-.4-.92-.59-1.43-.59-.52 0-1.04.2-1.43.59L10.3 9.45l-7.72 7.72c-.78.78-.78 2.05 0 2.83L4 21.41c.39.39.9.59 1.41.59.51 0 1.02-.2 1.41-.59l7.78-7.78 2.81-2.81c.8-.78.8-2.07 0-2.86zM5.41 20L4 18.59l7.72-7.72 1.47 1.35L5.41 20z\"/>\n",
              "  </svg>\n",
              "      </button>\n",
              "      \n",
              "  <style>\n",
              "    .colab-df-container {\n",
              "      display:flex;\n",
              "      flex-wrap:wrap;\n",
              "      gap: 12px;\n",
              "    }\n",
              "\n",
              "    .colab-df-convert {\n",
              "      background-color: #E8F0FE;\n",
              "      border: none;\n",
              "      border-radius: 50%;\n",
              "      cursor: pointer;\n",
              "      display: none;\n",
              "      fill: #1967D2;\n",
              "      height: 32px;\n",
              "      padding: 0 0 0 0;\n",
              "      width: 32px;\n",
              "    }\n",
              "\n",
              "    .colab-df-convert:hover {\n",
              "      background-color: #E2EBFA;\n",
              "      box-shadow: 0px 1px 2px rgba(60, 64, 67, 0.3), 0px 1px 3px 1px rgba(60, 64, 67, 0.15);\n",
              "      fill: #174EA6;\n",
              "    }\n",
              "\n",
              "    [theme=dark] .colab-df-convert {\n",
              "      background-color: #3B4455;\n",
              "      fill: #D2E3FC;\n",
              "    }\n",
              "\n",
              "    [theme=dark] .colab-df-convert:hover {\n",
              "      background-color: #434B5C;\n",
              "      box-shadow: 0px 1px 3px 1px rgba(0, 0, 0, 0.15);\n",
              "      filter: drop-shadow(0px 1px 2px rgba(0, 0, 0, 0.3));\n",
              "      fill: #FFFFFF;\n",
              "    }\n",
              "  </style>\n",
              "\n",
              "      <script>\n",
              "        const buttonEl =\n",
              "          document.querySelector('#df-4e011aa4-47b2-426e-aef4-8ebed5a39860 button.colab-df-convert');\n",
              "        buttonEl.style.display =\n",
              "          google.colab.kernel.accessAllowed ? 'block' : 'none';\n",
              "\n",
              "        async function convertToInteractive(key) {\n",
              "          const element = document.querySelector('#df-4e011aa4-47b2-426e-aef4-8ebed5a39860');\n",
              "          const dataTable =\n",
              "            await google.colab.kernel.invokeFunction('convertToInteractive',\n",
              "                                                     [key], {});\n",
              "          if (!dataTable) return;\n",
              "\n",
              "          const docLinkHtml = 'Like what you see? Visit the ' +\n",
              "            '<a target=\"_blank\" href=https://colab.research.google.com/notebooks/data_table.ipynb>data table notebook</a>'\n",
              "            + ' to learn more about interactive tables.';\n",
              "          element.innerHTML = '';\n",
              "          dataTable['output_type'] = 'display_data';\n",
              "          await google.colab.output.renderOutput(dataTable, element);\n",
              "          const docLink = document.createElement('div');\n",
              "          docLink.innerHTML = docLinkHtml;\n",
              "          element.appendChild(docLink);\n",
              "        }\n",
              "      </script>\n",
              "    </div>\n",
              "  </div>\n",
              "  "
            ]
          },
          "metadata": {},
          "execution_count": 101
        }
      ]
    },
    {
      "cell_type": "markdown",
      "source": [
        "Since Opossums or Raccoons (see column \"Breed\") hardly have a shot at being adopted, let's rather just focus on dogs and cats. They will most likely be adopted by rather similar criteria, whereas an oppossum, a bat, or a pig might be adopted on other grounds (although I hear some people have house pigs and that kind of makes me want to get one). Let's also one-hot encode animals' values for \"intake type\", \"intake condition\", \"animal type\" (dog or cat), and \"sex\":"
      ],
      "metadata": {
        "id": "dYdCk9H_nG7C"
      }
    },
    {
      "cell_type": "code",
      "source": [
        "cats_dogs_df = X_new[X_new[\"Animal Type\"].isin([\"Cat\", \"Dog\"])]\n",
        "\n",
        "df2 = pd.get_dummies(data = cats_dogs_df, columns = [\"Intake Type\", \"Intake Condition\", \"Animal Type\", \"Sex\"], dummy_na = True)"
      ],
      "metadata": {
        "id": "l1MsryXenfnO"
      },
      "execution_count": 102,
      "outputs": []
    },
    {
      "cell_type": "markdown",
      "source": [
        "Next, let's see how animals fare:"
      ],
      "metadata": {
        "id": "tMdXWek8n0u_"
      }
    },
    {
      "cell_type": "code",
      "source": [
        "print(df2[df2[\"Outcome Type\"] == \"Euthanasia\"].shape[0]/df2.shape[0], df2[df2[\"Outcome Type\"] == \"Adoption\"].shape[0]/df2.shape[0])"
      ],
      "metadata": {
        "colab": {
          "base_uri": "https://localhost:8080/"
        },
        "id": "liWI84Ucn2oq",
        "outputId": "e57c5730-59ee-49e4-cadc-9c5d64312149"
      },
      "execution_count": 103,
      "outputs": [
        {
          "output_type": "stream",
          "name": "stdout",
          "text": [
            "0.06369876557159403 0.2242592017174656\n"
          ]
        }
      ]
    },
    {
      "cell_type": "markdown",
      "source": [
        "6% of animals suffer Euthanasia, whereas 22% get adopted. Let's get the entire descriptive statistics:"
      ],
      "metadata": {
        "id": "EWzHjqCqoF6N"
      }
    },
    {
      "cell_type": "code",
      "source": [
        "df2[\"Outcome Type\"].value_counts().sort_values(ascending=False)"
      ],
      "metadata": {
        "colab": {
          "base_uri": "https://localhost:8080/"
        },
        "id": "VrRmGA8WobMu",
        "outputId": "a3ab7b32-0f23-41e6-d1aa-4928e4e8cfd1"
      },
      "execution_count": 104,
      "outputs": [
        {
          "output_type": "execute_result",
          "data": {
            "text/plain": [
              "Transfer           14866\n",
              "Return to Owner     9874\n",
              "Adoption            7939\n",
              "Euthanasia          2255\n",
              "Died                 407\n",
              "Missing               32\n",
              "Disposal              20\n",
              "Rto-Adopt              8\n",
              "Name: Outcome Type, dtype: int64"
            ]
          },
          "metadata": {},
          "execution_count": 104
        }
      ]
    },
    {
      "cell_type": "markdown",
      "source": [
        "The most common case is \"Transfer\" (making up more than half the dataset). That's not good because we do not know how animals fare at their new shelter. We therefore drop them as well as missing outcomes. Next, the age-category is coded as a lot of different strings, mainly encoded as years, but sometimes taking on values of \"weeks\" or even \"days\". We will recode them as \"0 years\" (i.e. less than one year). In order to make sure we work with clean data I also perform the same for the outcome-age and keep only those were the difference between outcome-age and intake-age is non-negative (to ensure reliable data)."
      ],
      "metadata": {
        "id": "U6ocK7A-oo9O"
      }
    },
    {
      "cell_type": "code",
      "source": [
        "df3 = df2[df2[\"Outcome Type\"].isin([\"Adoption\", \"Return to Owner\", \"Euthanasia\", \"Died\", \"Disposal\", \"Rto-Adopt\"])]\n",
        "\n",
        "df3[df3[\"Age upon Intake\"].isin([\"1 month\", \"1 weeks\", \"9 months\", \"3 months\", \"2 months\", \"10 months\", \"7 months\", \"4 months\", \"11 months\", \"6 months\", \"3 weeks\", \"8 months\", \"5 months\", \"2 weeks\", \"2 days\", \"1 day\", \"4 weeks\", \"1 week\", \"3 days\", \"6 days\", \"5 weeks\", \"4 days\", \"5 days\"])][\"Age upon Intake\"] = \"0 years\"\n",
        "df3[\"Age upon Intake\"] = df3[\"Age upon Intake\"].apply(lambda x: x.split(\" \")[0])\n",
        "df3[\"Age upon Intake\"] = df3[\"Age upon Intake\"].apply(lambda x: int(x))\n",
        "df3[df3[\"Age upon Outcome\"].isin([\"1 month\", \"1 weeks\", \"9 months\", \"3 months\", \"2 months\", \"10 months\", \"7 months\", \"4 months\", \"11 months\", \"6 months\", \"3 weeks\", \"8 months\", \"5 months\", \"2 weeks\", \"2 days\", \"1 day\", \"4 weeks\", \"1 week\", \"3 days\", \"6 days\", \"5 weeks\", \"4 days\", \"5 days\"])][\"Age upon Outcome\"] = \"0 years\"\n",
        "df3 = df3.dropna(subset = [\"Age upon Outcome\"])\n",
        "df3[\"Age upon Outcome\"] = df3[\"Age upon Outcome\"].apply(lambda x: x.split(\" \")[0])\n",
        "df3[\"Age upon Outcome\"] = df3[\"Age upon Outcome\"].apply(lambda x: int(x))\n",
        "\n",
        "df3[\"years_spent\"] = df3[\"Age upon Outcome\"] - df3[\"Age upon Intake\"]\n",
        "df4 = df3[df3[\"years_spent\"]>=0]\n",
        "df4 = df4.rename(columns = {\"Age upon Intake\":\"age_intake\"})"
      ],
      "metadata": {
        "colab": {
          "base_uri": "https://localhost:8080/"
        },
        "id": "4vDrAzr-o8fa",
        "outputId": "92dc9b4e-9fdb-4df4-de5a-103cc6ba5afc"
      },
      "execution_count": 105,
      "outputs": [
        {
          "output_type": "stream",
          "name": "stderr",
          "text": [
            "<ipython-input-105-835a74eef450>:3: SettingWithCopyWarning: \n",
            "A value is trying to be set on a copy of a slice from a DataFrame.\n",
            "Try using .loc[row_indexer,col_indexer] = value instead\n",
            "\n",
            "See the caveats in the documentation: https://pandas.pydata.org/pandas-docs/stable/user_guide/indexing.html#returning-a-view-versus-a-copy\n",
            "  df3[df3[\"Age upon Intake\"].isin([\"1 month\", \"1 weeks\", \"9 months\", \"3 months\", \"2 months\", \"10 months\", \"7 months\", \"4 months\", \"11 months\", \"6 months\", \"3 weeks\", \"8 months\", \"5 months\", \"2 weeks\", \"2 days\", \"1 day\", \"4 weeks\", \"1 week\", \"3 days\", \"6 days\", \"5 weeks\", \"4 days\", \"5 days\"])][\"Age upon Intake\"] = \"0 years\"\n",
            "<ipython-input-105-835a74eef450>:4: SettingWithCopyWarning: \n",
            "A value is trying to be set on a copy of a slice from a DataFrame.\n",
            "Try using .loc[row_indexer,col_indexer] = value instead\n",
            "\n",
            "See the caveats in the documentation: https://pandas.pydata.org/pandas-docs/stable/user_guide/indexing.html#returning-a-view-versus-a-copy\n",
            "  df3[\"Age upon Intake\"] = df3[\"Age upon Intake\"].apply(lambda x: x.split(\" \")[0])\n",
            "<ipython-input-105-835a74eef450>:5: SettingWithCopyWarning: \n",
            "A value is trying to be set on a copy of a slice from a DataFrame.\n",
            "Try using .loc[row_indexer,col_indexer] = value instead\n",
            "\n",
            "See the caveats in the documentation: https://pandas.pydata.org/pandas-docs/stable/user_guide/indexing.html#returning-a-view-versus-a-copy\n",
            "  df3[\"Age upon Intake\"] = df3[\"Age upon Intake\"].apply(lambda x: int(x))\n",
            "<ipython-input-105-835a74eef450>:6: SettingWithCopyWarning: \n",
            "A value is trying to be set on a copy of a slice from a DataFrame.\n",
            "Try using .loc[row_indexer,col_indexer] = value instead\n",
            "\n",
            "See the caveats in the documentation: https://pandas.pydata.org/pandas-docs/stable/user_guide/indexing.html#returning-a-view-versus-a-copy\n",
            "  df3[df3[\"Age upon Outcome\"].isin([\"1 month\", \"1 weeks\", \"9 months\", \"3 months\", \"2 months\", \"10 months\", \"7 months\", \"4 months\", \"11 months\", \"6 months\", \"3 weeks\", \"8 months\", \"5 months\", \"2 weeks\", \"2 days\", \"1 day\", \"4 weeks\", \"1 week\", \"3 days\", \"6 days\", \"5 weeks\", \"4 days\", \"5 days\"])][\"Age upon Outcome\"] = \"0 years\"\n",
            "<ipython-input-105-835a74eef450>:8: SettingWithCopyWarning: \n",
            "A value is trying to be set on a copy of a slice from a DataFrame.\n",
            "Try using .loc[row_indexer,col_indexer] = value instead\n",
            "\n",
            "See the caveats in the documentation: https://pandas.pydata.org/pandas-docs/stable/user_guide/indexing.html#returning-a-view-versus-a-copy\n",
            "  df3[\"Age upon Outcome\"] = df3[\"Age upon Outcome\"].apply(lambda x: x.split(\" \")[0])\n",
            "<ipython-input-105-835a74eef450>:9: SettingWithCopyWarning: \n",
            "A value is trying to be set on a copy of a slice from a DataFrame.\n",
            "Try using .loc[row_indexer,col_indexer] = value instead\n",
            "\n",
            "See the caveats in the documentation: https://pandas.pydata.org/pandas-docs/stable/user_guide/indexing.html#returning-a-view-versus-a-copy\n",
            "  df3[\"Age upon Outcome\"] = df3[\"Age upon Outcome\"].apply(lambda x: int(x))\n",
            "<ipython-input-105-835a74eef450>:11: SettingWithCopyWarning: \n",
            "A value is trying to be set on a copy of a slice from a DataFrame.\n",
            "Try using .loc[row_indexer,col_indexer] = value instead\n",
            "\n",
            "See the caveats in the documentation: https://pandas.pydata.org/pandas-docs/stable/user_guide/indexing.html#returning-a-view-versus-a-copy\n",
            "  df3[\"years_spent\"] = df3[\"Age upon Outcome\"] - df3[\"Age upon Intake\"]\n"
          ]
        }
      ]
    },
    {
      "cell_type": "markdown",
      "source": [
        "Next, we only keep the dummy-variables for \"Name is missing\", the different intake-types, intake-conditions, animal-type, sex-type, and age at intake. For the outcome variable \"y_regression\" we a \"good\" versus a \"bad\" outcome: an animal being returned to their owner, adopted, or having \"Rto-Adopt\" (Return-Adoption) will be counted as \"1\", a killed, dead, or disposed animal will be a \"0\"."
      ],
      "metadata": {
        "id": "jnyKoyw4pp8_"
      }
    },
    {
      "cell_type": "code",
      "source": [
        "\n",
        "X_regression = df4[[\"Name_nan\",\"age_intake\", \"Intake Type_Owner Surrender\", \"Intake Type_Public Assist\", \"Intake Type_Stray\", \"Intake Condition_Aged\", \"Intake Condition_Feral\", \"Intake Condition_Injured\", \"Intake Condition_Normal\", \"Intake Condition_Nursing\", \"Intake Condition_Other\", \"Intake Condition_Pregnant\", \"Intake Condition_Sick\", \"Animal Type_Dog\", \"Sex_Intact Female\", \"Sex_Intact Male\", \"Sex_Neutered Male\", \"Sex_Spayed Female\", \"Sex_Unknown\"]]\n",
        "y = df4[[\"Outcome Type\", \"Outcome Subtype\"]]\n",
        "y_regression = y[\"Outcome Type\"].isin([\"Adoption\", \"Return to Owner\", \"Rto-Adopt\"])\n",
        "y_regression = np.where(y_regression, 1, 0)"
      ],
      "metadata": {
        "id": "uXH67_-hppWT"
      },
      "execution_count": 106,
      "outputs": []
    },
    {
      "cell_type": "markdown",
      "source": [
        "That concludes Data Cleaning and we can now go to the Learning-Phase of this project."
      ],
      "metadata": {
        "id": "ZrbytsZUp1zj"
      }
    },
    {
      "cell_type": "markdown",
      "source": [
        "# 2 Predictive Inference"
      ],
      "metadata": {
        "id": "Zfg8IBPdqW4H"
      }
    },
    {
      "cell_type": "markdown",
      "source": [
        "Let's first import some common classifiers to use and standardize the data that we use:"
      ],
      "metadata": {
        "id": "_Jx_HJ12qZoN"
      }
    },
    {
      "cell_type": "code",
      "source": [
        "from sklearn.ensemble import RandomForestClassifier\n",
        "from sklearn.linear_model import LogisticRegression\n",
        "from sklearn.svm import SVC\n",
        "from sklearn.neighbors import KNeighborsClassifier\n",
        "from sklearn.metrics import f1_score, recall_score, precision_score\n",
        "from sklearn.model_selection import GridSearchCV\n",
        "\n",
        "sc = StandardScaler()\n",
        "sc_fit = sc.fit(X_regression)\n",
        "X_transformer = sc_fit.transform(X_regression)\n",
        "X_transformer.shape"
      ],
      "metadata": {
        "colab": {
          "base_uri": "https://localhost:8080/"
        },
        "id": "wezPmRNdqcKZ",
        "outputId": "bb30cefd-c4f3-417a-ff0b-9dd36a946d92"
      },
      "execution_count": 126,
      "outputs": [
        {
          "output_type": "execute_result",
          "data": {
            "text/plain": [
              "(19330, 19)"
            ]
          },
          "metadata": {},
          "execution_count": 126
        }
      ]
    },
    {
      "cell_type": "markdown",
      "source": [
        "Next, the train-test-split. A ratio of 80:20 seems good as we still have nearly 20,000 observations."
      ],
      "metadata": {
        "id": "3ookLob8qlGA"
      }
    },
    {
      "cell_type": "code",
      "source": [
        "X_train, X_test, y_train, y_test = train_test_split(X_transformer, y_regression, test_size = 0.2, random_state = 36)"
      ],
      "metadata": {
        "id": "uUvX3G0Sqq23"
      },
      "execution_count": 108,
      "outputs": []
    },
    {
      "cell_type": "markdown",
      "source": [
        "Let's fit all of these and see how good they are at prediction. We'll measure accuracy, the F1-score, Recall, and Precision, as well as the confusion matrix:"
      ],
      "metadata": {
        "id": "OXXCf1jYqzEE"
      }
    },
    {
      "cell_type": "code",
      "source": [
        "svm = SVC(kernel = \"rbf\")\n",
        "clf = svm.fit(X_train, y_train)\n",
        "y_pred = clf.predict(X_test)\n",
        "print(\"SVM:\")\n",
        "acc = accuracy_score(y_test, y_pred)\n",
        "print(f\"Accuracy: {acc:.3f}\")\n",
        "f_one = f1_score(y_test, y_pred)\n",
        "print(f\"F1-Score: {f_one:.3f}\")\n",
        "recall = recall_score(y_test, y_pred)\n",
        "print(f\"Recall: {recall:.3f}\")\n",
        "prec = precision_score(y_test, y_pred)\n",
        "print(f\"Precision: {prec:.3f}\")\n",
        "print(confusion_matrix(y_test, y_pred))"
      ],
      "metadata": {
        "colab": {
          "base_uri": "https://localhost:8080/"
        },
        "id": "Qwrov4MLq_6v",
        "outputId": "a03a287d-d568-46ac-dad6-ca4da590b050"
      },
      "execution_count": 109,
      "outputs": [
        {
          "output_type": "stream",
          "name": "stdout",
          "text": [
            "SVM:\n",
            "Accuracy: 0.934\n",
            "F1-Score: 0.963\n",
            "Recall: 0.984\n",
            "Precision: 0.942\n",
            "[[ 310  202]\n",
            " [  53 3301]]\n"
          ]
        }
      ]
    },
    {
      "cell_type": "markdown",
      "source": [
        "A Support-Vector-Machine with gaussian kernel fares very well, it seems. Let us fit a couple others. Next up: a Cross-Validated KNN-approach:"
      ],
      "metadata": {
        "id": "oiZJBFwHsHXE"
      }
    },
    {
      "cell_type": "code",
      "source": [
        "knn = KNeighborsClassifier()\n",
        "\n",
        "parameters = {\"n_neighbors\": [3,5,7]}\n",
        "\n",
        "knn_cv = GridSearchCV(knn, param_grid=parameters)\n",
        "\n",
        "clf = knn_cv.fit(X_train, y_train)\n",
        "y_pred = clf.predict(X_test)\n",
        "print(\"KNN:\")\n",
        "acc = accuracy_score(y_test, y_pred)\n",
        "print(f\"Accuracy: {acc:.3f}\")\n",
        "f_one = f1_score(y_test, y_pred)\n",
        "print(f\"F1-Score: {f_one:.3f}\")\n",
        "recall = recall_score(y_test, y_pred)\n",
        "print(f\"Recall: {recall:.3f}\")\n",
        "prec = precision_score(y_test, y_pred)\n",
        "print(f\"Precision: {prec:.3f}\")\n",
        "print(confusion_matrix(y_test, y_pred))"
      ],
      "metadata": {
        "colab": {
          "base_uri": "https://localhost:8080/"
        },
        "id": "jGSneiATsOqN",
        "outputId": "ba25a876-9721-4de9-d255-0fe8d605440b"
      },
      "execution_count": 110,
      "outputs": [
        {
          "output_type": "stream",
          "name": "stdout",
          "text": [
            "KNN:\n",
            "Accuracy: 0.933\n",
            "F1-Score: 0.962\n",
            "Recall: 0.983\n",
            "Precision: 0.942\n",
            "[[ 309  203]\n",
            " [  56 3298]]\n"
          ]
        }
      ]
    },
    {
      "cell_type": "markdown",
      "source": [
        "KNN fares nearly identical. Next up: a Logistic Regression:"
      ],
      "metadata": {
        "id": "SREw92_Asmbs"
      }
    },
    {
      "cell_type": "code",
      "source": [
        "log_reg = LogisticRegression()\n",
        "\n",
        "clf = log_reg.fit(X_train, y_train)\n",
        "y_pred = clf.predict(X_test)\n",
        "print(\"Logistic Regression:\")\n",
        "acc = accuracy_score(y_test, y_pred)\n",
        "print(f\"Accuracy: {acc:.3f}\")\n",
        "f_one = f1_score(y_test, y_pred)\n",
        "print(f\"F1-Score: {f_one:.3f}\")\n",
        "recall = recall_score(y_test, y_pred)\n",
        "print(f\"Recall: {recall:.3f}\")\n",
        "prec = precision_score(y_test, y_pred)\n",
        "print(f\"Precision: {prec:.3f}\")\n",
        "print(confusion_matrix(y_test, y_pred))"
      ],
      "metadata": {
        "colab": {
          "base_uri": "https://localhost:8080/"
        },
        "id": "jy8ATRh-ssb1",
        "outputId": "3ea692ea-c740-4170-e66d-185b99d2c4a9"
      },
      "execution_count": 111,
      "outputs": [
        {
          "output_type": "stream",
          "name": "stdout",
          "text": [
            "Logistic Regression:\n",
            "Accuracy: 0.929\n",
            "F1-Score: 0.960\n",
            "Recall: 0.979\n",
            "Precision: 0.942\n",
            "[[ 309  203]\n",
            " [  72 3282]]\n"
          ]
        }
      ]
    },
    {
      "cell_type": "markdown",
      "source": [
        "Not bad, but almost always a little bit worse. Next up: Random Forest!"
      ],
      "metadata": {
        "id": "Fd49kLhGs0Pm"
      }
    },
    {
      "cell_type": "code",
      "source": [
        "rf = RandomForestClassifier()\n",
        "\n",
        "clf = rf.fit(X_train, y_train)\n",
        "y_pred = clf.predict(X_test)\n",
        "print(\"Random Forest:\")\n",
        "acc = accuracy_score(y_test, y_pred)\n",
        "print(f\"Accuracy: {acc:.3f}\")\n",
        "f_one = f1_score(y_test, y_pred)\n",
        "print(f\"F1-Score: {f_one:.3f}\")\n",
        "recall = recall_score(y_test, y_pred)\n",
        "print(f\"Recall: {recall:.3f}\")\n",
        "prec = precision_score(y_test, y_pred)\n",
        "print(f\"Precision: {prec:.3f}\")\n",
        "print(confusion_matrix(y_test, y_pred))"
      ],
      "metadata": {
        "colab": {
          "base_uri": "https://localhost:8080/"
        },
        "id": "LLaFnKCrs3dC",
        "outputId": "27e82584-6e0c-4c9c-afc2-9bf38ce35106"
      },
      "execution_count": 112,
      "outputs": [
        {
          "output_type": "stream",
          "name": "stdout",
          "text": [
            "Random Forest:\n",
            "Accuracy: 0.933\n",
            "F1-Score: 0.962\n",
            "Recall: 0.982\n",
            "Precision: 0.943\n",
            "[[ 314  198]\n",
            " [  60 3294]]\n"
          ]
        }
      ]
    },
    {
      "cell_type": "markdown",
      "source": [
        "Almost equal. Finally, a favorite of mine, let's take a voting-estimator over the SVM, KNN, and Random Forest:"
      ],
      "metadata": {
        "id": "G2bL6pOttB1Z"
      }
    },
    {
      "cell_type": "code",
      "source": [
        "from sklearn.ensemble import VotingClassifier\n",
        "voting_class = VotingClassifier(estimators = [(\"SVM\", svm), (\"KNN\", knn), (\"RF\", rf)])\n",
        "\n",
        "voting = voting_class.fit(X_train, y_train)\n",
        "y_pred = voting.predict(X_test)\n",
        "print(\"Voting Classifier:\")\n",
        "acc = accuracy_score(y_test, y_pred)\n",
        "print(f\"Accuracy: {acc:.3f}\")\n",
        "f_one = f1_score(y_test, y_pred)\n",
        "print(f\"F1-Score: {f_one:.3f}\")\n",
        "recall = recall_score(y_test, y_pred)\n",
        "print(f\"Recall: {recall:.3f}\")\n",
        "prec = precision_score(y_test, y_pred)\n",
        "print(f\"Precision: {prec:.3f}\")\n",
        "print(confusion_matrix(y_test, y_pred))"
      ],
      "metadata": {
        "colab": {
          "base_uri": "https://localhost:8080/"
        },
        "id": "Rt2BOjRHtHwR",
        "outputId": "208b4e81-7546-4735-db0a-99f90cb772aa"
      },
      "execution_count": 113,
      "outputs": [
        {
          "output_type": "stream",
          "name": "stdout",
          "text": [
            "Voting Classifier:\n",
            "Accuracy: 0.934\n",
            "F1-Score: 0.963\n",
            "Recall: 0.984\n",
            "Precision: 0.943\n",
            "[[ 312  200]\n",
            " [  55 3299]]\n"
          ]
        }
      ]
    },
    {
      "cell_type": "markdown",
      "source": [
        "They all fare fairly well, but my personal favorite is the Voting-Classifier: by using a majority-rule over three well-performing Learners, we have a good chance that our final prediction will be fairly good - as the metrics indicate. "
      ],
      "metadata": {
        "id": "Fou1Tl5HtZh8"
      }
    },
    {
      "cell_type": "markdown",
      "source": [
        "# 3 Learning from the data"
      ],
      "metadata": {
        "id": "D5H9440MuKc9"
      }
    },
    {
      "cell_type": "code",
      "source": [
        "X_regression.columns"
      ],
      "metadata": {
        "colab": {
          "base_uri": "https://localhost:8080/"
        },
        "id": "nPiM_KCzuOty",
        "outputId": "8df64f2c-c395-4216-8b5d-9500eef37cc4"
      },
      "execution_count": 114,
      "outputs": [
        {
          "output_type": "execute_result",
          "data": {
            "text/plain": [
              "Index(['Name_nan', 'age_intake', 'Intake Type_Owner Surrender',\n",
              "       'Intake Type_Public Assist', 'Intake Type_Stray',\n",
              "       'Intake Condition_Aged', 'Intake Condition_Feral',\n",
              "       'Intake Condition_Injured', 'Intake Condition_Normal',\n",
              "       'Intake Condition_Nursing', 'Intake Condition_Other',\n",
              "       'Intake Condition_Pregnant', 'Intake Condition_Sick', 'Animal Type_Dog',\n",
              "       'Sex_Intact Female', 'Sex_Intact Male', 'Sex_Neutered Male',\n",
              "       'Sex_Spayed Female', 'Sex_Unknown'],\n",
              "      dtype='object')"
            ]
          },
          "metadata": {},
          "execution_count": 114
        }
      ]
    },
    {
      "cell_type": "markdown",
      "source": [
        "What can we do next? Aside from the Age-Variable, nearly all of our features are 0-1-dummies. That does not lend itself too well for plotting or visualization exercises.\n",
        "Instead, let us revisit my assumption from earlier on, namely that an absent name might be an interesting indicator for the animal's future. I have picked a rather unorthodox approach but one that I find fairly insightful. In particular, my interest lies in how much an animal having a name makes a difference for our prediction of them being adopted. For this, we'll generate synthetic data as follows.\n",
        "Let us create a dataframe filled with artificial observations, one for each possible combination of all other features. For example, there will be exactly one 2-year-old neutered male dog brought in by the owner in normal condition, exactly one 7-year-old sex-intact-female cat brought in as a stray in a feral condition, etc. Here is the code:"
      ],
      "metadata": {
        "id": "nNjMD6ebuNR_"
      }
    },
    {
      "cell_type": "code",
      "source": [
        "age_list = np.arange(0,20,1)\n",
        "\n",
        "intake = [\"Intake Type_Owner Surrender\", \"Intake Type_Public Assist\", \"Intake Type_Stray\"]\n",
        "\n",
        "condition = [\"Intake Condition_Aged\", \"Intake Condition_Feral\", \"Intake Condition_Injured\", \"Intake Condition_Normal\",\"Intake Condition_Nursing\",\"Intake Condition_Other\",\"Intake Condition_Pregnant\",\"Intake Condition_Sick\"]\n",
        "\n",
        "animal = [\"Animal Type_Dog\"]\n",
        "sex = [\"Sex_Intact Female\", \"Sex_Intact Male\", \"Sex_Neutered Male\", \"Sex_Spayed Female\", \"Sex_Unknown\"]\n",
        "\n",
        "\n",
        "all_lists_dog = []\n",
        "for i in intake:\n",
        "    for c in condition:\n",
        "        for a in animal:\n",
        "            for s in sex:\n",
        "                for age in age_list:\n",
        "                    all_lists_dog.append([i, c, a, s, age])"
      ],
      "metadata": {
        "id": "pKXuM9TvvOVe"
      },
      "execution_count": 115,
      "outputs": []
    },
    {
      "cell_type": "markdown",
      "source": [
        "This gives us a list in which each sublist specifies exactly one type of dog. Let's turn this into a dataframe:"
      ],
      "metadata": {
        "id": "08CmzzHVvSC3"
      }
    },
    {
      "cell_type": "code",
      "source": [
        "columns = X_regression.columns\n",
        "dog_df = pd.DataFrame(columns=columns)\n",
        "\n",
        "for i in all_lists_dog:\n",
        "    df2 = pd.DataFrame([[0]*dog_df.shape[1]],columns=dog_df.columns)\n",
        "    for j in i[:-1]:\n",
        "        df2[j] = 1 \n",
        "    df2[\"age_intake\"] = i[-1]\n",
        "    dog_df = dog_df.append(df2, ignore_index=True)"
      ],
      "metadata": {
        "colab": {
          "base_uri": "https://localhost:8080/"
        },
        "id": "GAZ_0kekveoL",
        "outputId": "5b118596-a960-4f3f-df32-2dc59d0dcebe"
      },
      "execution_count": 116,
      "outputs": [
        {
          "output_type": "stream",
          "name": "stderr",
          "text": [
            "<ipython-input-116-c529eb1030fc>:9: FutureWarning: The frame.append method is deprecated and will be removed from pandas in a future version. Use pandas.concat instead.\n",
            "  dog_df = dog_df.append(df2, ignore_index=True)\n"
          ]
        }
      ]
    },
    {
      "cell_type": "markdown",
      "source": [
        "This way, each row in this dataframe has a 1 exactly where the list indicates, and finally for the age-column we give it the age-value of that possible, synthetic observation. Let's give them all a name and next clone this to adapt it for cats (i.e. \"Animal Type_Dog\" = 0):"
      ],
      "metadata": {
        "id": "ZPenr-9fvgTc"
      }
    },
    {
      "cell_type": "code",
      "source": [
        "dog_df[\"Name_nan\"] = 0 \n",
        "\n",
        "cat_df = dog_df.copy(deep=True)\n",
        "cat_df[\"Animal Type_Dog\"] = 0"
      ],
      "metadata": {
        "id": "y5BCx84GwNPQ"
      },
      "execution_count": 117,
      "outputs": []
    },
    {
      "cell_type": "markdown",
      "source": [
        "Now we can combine these two to give us a full df for all cats and dogs with a name. Similarly, let us make a second synthetic, counterfactual dataframe, where all animals have no name (although they are no horses):"
      ],
      "metadata": {
        "id": "0AwQDXCmwOlW"
      }
    },
    {
      "cell_type": "code",
      "source": [
        "full_df = pd.concat([dog_df, cat_df], ignore_index=True)\n",
        "\n",
        "full_df2 = pd.concat([dog_df, cat_df], ignore_index=True)\n",
        "full_df2[\"Name_nan\"] = 1"
      ],
      "metadata": {
        "id": "V0hPhhPFwfy2"
      },
      "execution_count": 118,
      "outputs": []
    },
    {
      "cell_type": "markdown",
      "source": [
        "Next, we will pick a model (I choose the voting model but you can play around and instead use a different Learner) and make outcome-predictions (good or bad) for each of these synthetic datasets. We then append them to the initial DataFrame in which all animals have a name (full_df). Then we add a column that captures whether the prediction for a synthetic observation was altered by the fact that no name was given to the animal: "
      ],
      "metadata": {
        "id": "xcMcWJ0uwRf0"
      }
    },
    {
      "cell_type": "code",
      "source": [
        "model = voting\n",
        "\n",
        "predicts = model.predict(sc_fit.transform(full_df))\n",
        "predicts_change = model.predict(sc_fit.transform(full_df2))\n",
        "\n",
        "full_df[\"predicts\"] = predicts\n",
        "full_df[\"predicts_change\"] = predicts_change\n",
        "\n",
        "full_df[\"change\"] = full_df[\"predicts\"] - full_df[\"predicts_change\"]"
      ],
      "metadata": {
        "id": "6IewchDowwfs"
      },
      "execution_count": 119,
      "outputs": []
    },
    {
      "cell_type": "markdown",
      "source": [
        "Let's see what this gives us!"
      ],
      "metadata": {
        "id": "J0IkH3lkxKZn"
      }
    },
    {
      "cell_type": "code",
      "source": [
        "full_df[\"change\"].value_counts().sort_values(ascending=False)"
      ],
      "metadata": {
        "colab": {
          "base_uri": "https://localhost:8080/"
        },
        "id": "VrXRaXfExSm9",
        "outputId": "9b157363-ea49-45b8-f487-bf98c3fca3fd"
      },
      "execution_count": 120,
      "outputs": [
        {
          "output_type": "execute_result",
          "data": {
            "text/plain": [
              " 0    2644\n",
              " 1    2146\n",
              "-1      10\n",
              "Name: change, dtype: int64"
            ]
          },
          "metadata": {},
          "execution_count": 120
        }
      ]
    },
    {
      "cell_type": "markdown",
      "source": [
        "We see that for 2700 observations, giving the animal a name made no difference. However, for 2092 combinations of animals, we *do* get a difference in outcome that is driven by the animal being named. Also, 9 observations predict that an animal would not be adopted with a name but would without a name. However, 9 out of 4800 possible combinations is likely not very relevant and a statistical artifact. \n",
        "This result is already fairly interesting, but perhaps we can dig deeper. Perhaps an animal's outcome-change by giving it a name is also affected by other covariates. Let's see for which animals this is most severe."
      ],
      "metadata": {
        "id": "pRT3Y70WxVmE"
      }
    },
    {
      "cell_type": "code",
      "source": [
        "change_df = full_df[full_df[\"change\"]==1]\n",
        "change_df = change_df.drop([\"Name_nan\", \"predicts\", \"predicts_change\", \"change\"], axis = 1)\n",
        "\n",
        "means = change_df.sum()\n",
        "means = means.apply(lambda x: x/change_df.shape[0])\n",
        "print(means.drop(\"age_intake\"))"
      ],
      "metadata": {
        "colab": {
          "base_uri": "https://localhost:8080/"
        },
        "id": "Uq1uEmpSx5xD",
        "outputId": "d382237a-03f1-4650-edc5-e5a551ebe2cb"
      },
      "execution_count": 121,
      "outputs": [
        {
          "output_type": "stream",
          "name": "stdout",
          "text": [
            "Intake Type_Owner Surrender    0.271668\n",
            "Intake Type_Public Assist      0.344362\n",
            "Intake Type_Stray              0.383970\n",
            "Intake Condition_Aged          0.071761\n",
            "Intake Condition_Feral         0.146319\n",
            "Intake Condition_Injured       0.154240\n",
            "Intake Condition_Normal        0.146319\n",
            "Intake Condition_Nursing       0.086673\n",
            "Intake Condition_Other         0.249767\n",
            "Intake Condition_Pregnant      0.000000\n",
            "Intake Condition_Sick          0.144921\n",
            "Animal Type_Dog                0.455732\n",
            "Sex_Intact Female              0.255825\n",
            "Sex_Intact Male                0.255359\n",
            "Sex_Neutered Male              0.179870\n",
            "Sex_Spayed Female              0.168686\n",
            "Sex_Unknown                    0.140261\n",
            "dtype: float64\n"
          ]
        }
      ]
    },
    {
      "cell_type": "markdown",
      "source": [
        "It seems that strays may be a little more favored by getting a name. Notice that the age-category is almost uniformly distributed too:"
      ],
      "metadata": {
        "id": "UnWe8uShyGqR"
      }
    },
    {
      "cell_type": "code",
      "source": [
        "import seaborn as sns\n",
        "sns.histplot(data = change_df[\"age_intake\"], binwidth=2)"
      ],
      "metadata": {
        "colab": {
          "base_uri": "https://localhost:8080/",
          "height": 469
        },
        "id": "x43olQlh0FjM",
        "outputId": "e1dc1cfc-f4c9-4ded-95e3-a6068bf4fb69"
      },
      "execution_count": 122,
      "outputs": [
        {
          "output_type": "execute_result",
          "data": {
            "text/plain": [
              "<Axes: xlabel='age_intake', ylabel='Count'>"
            ]
          },
          "metadata": {},
          "execution_count": 122
        },
        {
          "output_type": "display_data",
          "data": {
            "text/plain": [
              "<Figure size 640x480 with 1 Axes>"
            ],
            "image/png": "[encoded data removed]"
          },
          "metadata": {}
        }
      ]
    },
    {
      "cell_type": "markdown",
      "source": [
        "Observe, however, that aged, nursing, or pregnant dogs hardly have their outcome altered by having a name. Let's see what their predicted outcomes are:"
      ],
      "metadata": {
        "id": "FIhRkOFM0ISa"
      }
    },
    {
      "cell_type": "code",
      "source": [
        "nursing_condition = full_df[full_df[\"Intake Condition_Nursing\"]==1][\"predicts\"].sum()/full_df.shape[0]\n",
        "pregnant_condition = full_df[full_df[\"Intake Condition_Pregnant\"]==1][\"predicts\"].sum()/full_df.shape[0]\n",
        "aged_condition = full_df[full_df[\"Intake Condition_Aged\"]==1][\"predicts\"].sum()/full_df.shape[0]\n",
        "other_condition = full_df[full_df[\"Intake Condition_Other\"]==1][\"predicts\"].sum()/full_df.shape[0]\n",
        "print(f\"Around {100*nursing_condition:.2f}% of all nursing animals are predicted to have a positive outcome\")\n",
        "print(f\"Around {100*pregnant_condition:.2f}% of all pregnant animals are predicted to have a positive outcome\")\n",
        "print(f\"Around {100*aged_condition:.2f}% of all aged animals are predicted to have a positive outcome\")\n",
        "print(f\"Around {100*other_condition:.2f}% of all other-afflicted animals are predicted to have a positive outcome\")\n"
      ],
      "metadata": {
        "colab": {
          "base_uri": "https://localhost:8080/"
        },
        "id": "U01ylCLnzHcQ",
        "outputId": "ca3dc03d-1ba2-4768-80d7-953fbdf8c390"
      },
      "execution_count": 123,
      "outputs": [
        {
          "output_type": "stream",
          "name": "stdout",
          "text": [
            "Around 9.15% of all nursing animals are predicted to have a positive outcome\n",
            "Around 12.50% of all pregnant animals are predicted to have a positive outcome\n",
            "Around 10.00% of all aged animals are predicted to have a positive outcome\n",
            "Around 12.46% of all other-afflicted animals are predicted to have a positive outcome\n"
          ]
        }
      ]
    },
    {
      "cell_type": "markdown",
      "source": [
        "Sadly, this paints a rather grim picture. Nursing, Pregnant, Aged, or Other-afflicted animals have hardly a good forecast for adoption, and as we saw above, this is not particularly affected by giving them a name either.\n",
        "As a final, let's see how else we can make inference on this data. In particular, let's run a regression of all dummy-variables (and age) on the dummy that counts whether giving the synthetic animal a name would change their adoption outcome. This will show us which \"comorbidities\" have the biggest impact for making it less likely to be adopted if no name is given:"
      ],
      "metadata": {
        "id": "UgzFTXddzyz8"
      }
    },
    {
      "cell_type": "code",
      "source": [
        "\n",
        "X_analysis = full_df.drop([\"Name_nan\", \"predicts\", \"predicts_change\", \"change\", \"Intake Type_Owner Surrender\", \"Intake Condition_Normal\", \"Sex_Spayed Female\", \"Sex_Unknown\"], axis = 1)\n",
        "import statsmodels.api as sm \n",
        "X_analysis = sm.add_constant(X_analysis)\n",
        "\n",
        "for a in X_analysis.columns:\n",
        "    X_analysis[a] = pd.to_numeric(X_analysis[a])\n",
        "\n",
        "y_analysis = full_df[\"change\"]"
      ],
      "metadata": {
        "id": "Ix2rFmWJ0hzd"
      },
      "execution_count": 124,
      "outputs": []
    },
    {
      "cell_type": "markdown",
      "source": [
        "So as not to fall in the dummy-trap, we set as a baseline-animal a owner-surrendered, spayed female cat."
      ],
      "metadata": {
        "id": "pwwWJ1r90oec"
      }
    },
    {
      "cell_type": "code",
      "source": [
        "from statsmodels.regression.linear_model import OLS\n",
        "\n",
        "\n",
        "reg = OLS(endog = y_analysis, exog = X_analysis)\n",
        "\n",
        "\n",
        "\n",
        "res = reg.fit()\n",
        "print(res.summary())\n",
        "print(f\"A female spayed cat surrendered by its owner in normal condition has baseline probability of {100*res.params[0]:.2f}% of having its outcome status negatively impacted when unnamed\")"
      ],
      "metadata": {
        "colab": {
          "base_uri": "https://localhost:8080/"
        },
        "id": "Ygmqlhoz03u2",
        "outputId": "2fb5cfcf-e06a-46f7-ece9-488858265090"
      },
      "execution_count": 125,
      "outputs": [
        {
          "output_type": "stream",
          "name": "stdout",
          "text": [
            "                            OLS Regression Results                            \n",
            "==============================================================================\n",
            "Dep. Variable:                 change   R-squared:                       0.310\n",
            "Model:                            OLS   Adj. R-squared:                  0.308\n",
            "Method:                 Least Squares   F-statistic:                     153.6\n",
            "Date:                Wed, 29 Mar 2023   Prob (F-statistic):               0.00\n",
            "Time:                        19:37:06   Log-Likelihood:                -2604.2\n",
            "No. Observations:                4800   AIC:                             5238.\n",
            "Df Residuals:                    4785   BIC:                             5336.\n",
            "Df Model:                          14                                         \n",
            "Covariance Type:            nonrobust                                         \n",
            "=============================================================================================\n",
            "                                coef    std err          t      P>|t|      [0.025      0.975]\n",
            "---------------------------------------------------------------------------------------------\n",
            "const                         0.3199      0.023     13.629      0.000       0.274       0.366\n",
            "age_intake                    0.0056      0.001      5.409      0.000       0.004       0.008\n",
            "Intake Type_Public Assist     0.1037      0.015      7.038      0.000       0.075       0.133\n",
            "Intake Type_Stray             0.1569      0.015     10.642      0.000       0.128       0.186\n",
            "Intake Condition_Aged        -0.2633      0.024    -10.940      0.000      -0.311      -0.216\n",
            "Intake Condition_Feral        0.0033      0.024      0.138      0.890      -0.044       0.051\n",
            "Intake Condition_Injured      0.0267      0.024      1.108      0.268      -0.021       0.074\n",
            "Intake Condition_Nursing     -0.2183      0.024     -9.070      0.000      -0.266      -0.171\n",
            "Intake Condition_Other        0.3733      0.024     15.509      0.000       0.326       0.421\n",
            "Intake Condition_Pregnant    -0.5200      0.024    -21.602      0.000      -0.567      -0.473\n",
            "Intake Condition_Sick        -0.0017      0.024     -0.069      0.945      -0.049       0.046\n",
            "Animal Type_Dog              -0.0833      0.012     -6.924      0.000      -0.107      -0.060\n",
            "Sex_Intact Female             0.2281      0.016     13.842      0.000       0.196       0.260\n",
            "Sex_Intact Male               0.2198      0.016     13.336      0.000       0.187       0.252\n",
            "Sex_Neutered Male             0.0583      0.016      3.540      0.000       0.026       0.091\n",
            "==============================================================================\n",
            "Omnibus:                      734.361   Durbin-Watson:                   0.257\n",
            "Prob(Omnibus):                  0.000   Jarque-Bera (JB):              172.474\n",
            "Skew:                           0.050   Prob(JB):                     3.53e-38\n",
            "Kurtosis:                       2.077   Cond. No.                         94.8\n",
            "==============================================================================\n",
            "\n",
            "Notes:\n",
            "[1] Standard Errors assume that the covariance matrix of the errors is correctly specified.\n",
            "A female spayed cat surrendered by its owner in normal condition has baseline probability of 31.99% of having its outcome status negatively impacted when unnamed\n"
          ]
        }
      ]
    },
    {
      "cell_type": "markdown",
      "source": [
        "We see the same picture here as we found in the data earlier: the baseline says that giving an owner-surrendered, spayed female kitten a name makes it roughly 30% more likely that she will face a positive outcome.\n",
        "This pattern is hardly affected by age, but even stronger for stray animals, condition-\"Other\"-afflicted-animals, and sex-intact males and females alike. (Animals with Sex = Unknown were dropped for this purpose)\n",
        "In contrast, being aged almost entirely negates the possibility of increasing an animal's adoption change by giving it a name, and this is about as strong for nursing animals and virtually impossible for pregnant animals. "
      ],
      "metadata": {
        "id": "0nEugPwK07um"
      }
    },
    {
      "cell_type": "markdown",
      "source": [
        "# 4 Conclusion"
      ],
      "metadata": {
        "id": "drRucs272CEX"
      }
    },
    {
      "cell_type": "markdown",
      "source": [
        "What can we learn from this project? Several things, I believe. First, we are able to predict very well based on just a few characteristics such as their sex, age, intake-types and -conditions, as well as whether they have a name, whether a given animal is going to get adopted. Any classifier consistently scored above 90% accuracy, with the voting-classifier among an SVM, KNN, and a Random-Forest performing arguably the best.\n",
        "Next, we also saw using these predictions on synthetic data that giving an animal a name very much impacts their chances for getting adopted. This pattern was especially pronounced for stray animals, perhaps because they become more adorable and personalized that way. Sadly, it makes less of a difference for nursing, pregnant, or aged animals, all of which are predicted to face very bleak outcomes.\n",
        "What can we learn from this? We have for sure not established any causality here: these shelters are all in Austin, TX, but they might, for example, be very heterogeneous. Some shelters might take excellent care of animals and therefore is able to provide most of them with a new home, whereas other shelters might not care about the animals and leaving them behind. If that correlates with whether or not the animal is shown to have a name (which I believe it does), the last results are hardly a causal effect of giving an animal a name. Rather, it might just represent overall favourable conditions.\n",
        "But is it to be excluded that the name might have a bit of an impact? I do not think so. In particular, the cost of giving a nameless animal a name is virtually nil, and the effects, while overstated, are likely to be at least a little bit positive. Therefore, this, I believe, gives good evidence that providing sheltered cats and dogs with names will increase their likelihood of facing a positive outcome versus a negative one. \n",
        "Now if you'll excuse me, I have to look at the nearest shelter for aging, nursing, or pregnant animals, because my heart is breaking a little that nobody adopts them."
      ],
      "metadata": {
        "id": "ZEEWc0nW2DwC"
      }
    }
  ]
}
